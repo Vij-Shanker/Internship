{
 "cells": [
  {
   "cell_type": "code",
   "execution_count": 164,
   "id": "cdc2cc8d",
   "metadata": {},
   "outputs": [],
   "source": [
    "import re"
   ]
  },
  {
   "cell_type": "markdown",
   "id": "e481d3df",
   "metadata": {},
   "source": [
    "**Question 1- Write a Python program to replace all occurrences of a space, comma, or dot with a colon.**"
   ]
  },
  {
   "cell_type": "code",
   "execution_count": 165,
   "id": "8edae69e",
   "metadata": {},
   "outputs": [
    {
     "name": "stdout",
     "output_type": "stream",
     "text": [
      "Python:Exercises::PHP:exercises:\n"
     ]
    }
   ],
   "source": [
    "Text='Python Exercises, PHP exercises.'\n",
    "replace=re.sub(\"\\s|,|\\.\",\":\",Text)\n",
    "print(replace)"
   ]
  },
  {
   "cell_type": "markdown",
   "id": "56a147eb",
   "metadata": {},
   "source": [
    "**Question 2-  Create a dataframe using the dictionary below and remove everything (commas (,), !, XXXX, ;, etc.) from the columns except words.**\n",
    "\n",
    "Dictionary- {'SUMMARY' : ['hello, world!', 'XXXXX test', '123four, five:; six...']}\n",
    "Expected output-\n",
    "0      hello world\n",
    "1             test\n",
    "2    four five six\n"
   ]
  },
  {
   "cell_type": "code",
   "execution_count": 166,
   "id": "45c31d26",
   "metadata": {},
   "outputs": [
    {
     "name": "stdout",
     "output_type": "stream",
     "text": [
      "0 hello world\n",
      "1  test\n",
      "2 four five six\n"
     ]
    }
   ],
   "source": [
    "import pandas as pd\n",
    "import re\n",
    "index=0\n",
    "Dictionary={'SUMMARY':['hello, world!', 'XXXXX test', '123four, five:; six...']}\n",
    "for text in Dictionary['SUMMARY']:\n",
    "    DF=re.sub('[^a-z\\s]', '',text)\n",
    "    print(f\"{index} {DF}\")\n",
    "    index+=1"
   ]
  },
  {
   "cell_type": "markdown",
   "id": "6bb6f43c",
   "metadata": {},
   "source": [
    "**Question 3- Create a function in python to find all words that are at least 4 characters long in a string. The use of the re.compile() method is mandatory.**"
   ]
  },
  {
   "cell_type": "code",
   "execution_count": 167,
   "id": "f4ecd335",
   "metadata": {},
   "outputs": [
    {
     "name": "stdout",
     "output_type": "stream",
     "text": [
      "['John', 'McCarthy', 'founding', 'fathers', 'artificial', 'intelligence', 'together', 'with', 'Alan', 'Turing', 'Marvin', 'Minsky', 'Allen', 'Newell', 'Herbert', 'Simon', 'McCarthy', 'Minsky', 'Nathaniel', 'Rochester', 'Claude', 'Shannon', 'coined', 'term', 'artificial', 'intelligence', 'proposal', 'that', 'they', 'wrote', 'famous', 'Dartmouth', 'conference', 'Summer', '1956', 'This', 'conference', 'started', 'field']\n"
     ]
    }
   ],
   "source": [
    "pattern=re.compile(r'\\w{4,}')\n",
    "string='John McCarthy is one of the \"founding fathers\" of artificial intelligence, together with Alan Turing, Marvin Minsky, Allen Newell, and Herbert A. Simon. McCarthy, Minsky, Nathaniel Rochester and Claude E. Shannon coined the term \"artificial intelligence\" in a proposal that they wrote for the famous Dartmouth conference in Summer 1956. This conference started AI as a field.'\n",
    "result=re.findall(pattern,string)\n",
    "print(result)"
   ]
  },
  {
   "cell_type": "markdown",
   "id": "8f43b064",
   "metadata": {},
   "source": [
    "**Question 4- Create a function in python to find all three, four, and five character words in a string. The use of the re.compile() method is mandatory.**"
   ]
  },
  {
   "cell_type": "code",
   "execution_count": 173,
   "id": "145faff2",
   "metadata": {},
   "outputs": [
    {
     "name": "stdout",
     "output_type": "stream",
     "text": [
      "['John', 'one', 'the', 'with', 'Alan', 'Allen', 'and', 'Simon', 'and', 'the', 'term', 'that', 'they', 'wrote', 'for', 'the', '1956', 'This', 'field']\n"
     ]
    }
   ],
   "source": [
    "import re\n",
    "def words(string):\n",
    "    pattern=re.compile(r'\\b\\w{3,5}\\b')\n",
    "    matches=re.findall(pattern,string)\n",
    "    return matches\n",
    "\n",
    "result=words('John McCarthy is one of the \"founding fathers\" of artificial intelligence, together with Alan Turing, Marvin Minsky, Allen Newell, and Herbert A. Simon. McCarthy, Minsky, Nathaniel Rochester and Claude E. Shannon coined the term \"artificial intelligence\" in a proposal that they wrote for the famous Dartmouth conference in Summer 1956. This conference started AI as a field.')\n",
    "print(result)"
   ]
  },
  {
   "cell_type": "markdown",
   "id": "e08386cf",
   "metadata": {},
   "source": [
    "**Question 5- Create a function in Python to remove the parenthesis in a list of strings. The use of the re.compile() method is mandatory.**"
   ]
  },
  {
   "cell_type": "code",
   "execution_count": 228,
   "id": "36e9a1cf",
   "metadata": {},
   "outputs": [
    {
     "name": "stdout",
     "output_type": "stream",
     "text": [
      "example .com\n",
      "hr@fliprobo .com\n",
      "github .com\n",
      "Hello Data Science World\n",
      "Data Scientist\n"
     ]
    }
   ],
   "source": [
    "import re\n",
    "def parenthesis(strings):\n",
    "    pattern=re.compile(r\"[\\(\\)]\")\n",
    "    replace1=re.sub(pattern,\"\",strings)\n",
    "    return replace1\n",
    "stringlist=[\"example (.com)\", \"hr@fliprobo (.com)\", \"github (.com)\", \"Hello (Data Science World)\", \"Data (Scientist)\"]\n",
    "for strings in stringlist:\n",
    "    result1=parenthesis(strings)\n",
    "    print(result1)    "
   ]
  },
  {
   "cell_type": "markdown",
   "id": "de48b191",
   "metadata": {},
   "source": [
    "**Question 6- Write a python program to remove the parenthesis area from the text stored in the text file using Regular Expression.**\n",
    "\n",
    "**Sample Text: [\"example (.com)\", \"hr@fliprobo (.com)\", \"github (.com)\", \"Hello (Data Science World)\", \"Data (Scientist)\"]**\n",
    "\n",
    "\n",
    "**Expected Output: [\"example\", \"hr@fliprobo\", \"github\", \"Hello\", \"Data\"]**\n",
    "\n",
    "**Note- Store given sample text in the text file and then to remove the parenthesis area from the text.**\n"
   ]
  },
  {
   "cell_type": "code",
   "execution_count": 241,
   "id": "9bcaa45b",
   "metadata": {},
   "outputs": [
    {
     "name": "stdout",
     "output_type": "stream",
     "text": [
      "[\"example \", \"hr@fliprobo \", \"github \", \"Hello \", \"Data \"]\n"
     ]
    }
   ],
   "source": [
    "import os\n",
    "import re\n",
    "\n",
    "os.chdir(\"F:\\\\FlipRobo\\\\\")\n",
    "\n",
    "with open(\"sample.txt\") as file:\n",
    "    for line in file:\n",
    "        paran = re.sub((r'\\([^)]*\\)'), '', line)\n",
    "        print(paran)\n"
   ]
  },
  {
   "cell_type": "markdown",
   "id": "7c196770",
   "metadata": {},
   "source": [
    "**Question 7- Write a regular expression in Python to split a string into uppercase letters.**\n",
    "\n",
    "**Sample text: “ImportanceOfRegularExpressionsInPython”**\n",
    "    \n",
    "**Expected Output: [‘Importance’, ‘Of’, ‘Regular’, ‘Expression’, ‘In’, ‘Python’]**\n"
   ]
  },
  {
   "cell_type": "code",
   "execution_count": 253,
   "id": "438007ce",
   "metadata": {},
   "outputs": [
    {
     "name": "stdout",
     "output_type": "stream",
     "text": [
      "['Importance', 'Of', 'Regular', 'Expressions', 'In', 'Python']\n"
     ]
    }
   ],
   "source": [
    "import re\n",
    "text=\"ImportanceOfRegularExpressionsInPython\"\n",
    "s=re.findall('[A-Z][a-z]*',text)\n",
    "print(s)"
   ]
  },
  {
   "cell_type": "markdown",
   "id": "29b5b77e",
   "metadata": {},
   "source": [
    "**Question 8- Create a function in python to insert spaces between words starting with numbers.**\n",
    "\n",
    "**Sample Text: “RegularExpression1IsAn2ImportantTopic3InPython\"**\n",
    "\n",
    "**Expected Output: RegularExpression 1IsAn 2ImportantTopic 3InPython**\n"
   ]
  },
  {
   "cell_type": "code",
   "execution_count": 275,
   "id": "76efcebd",
   "metadata": {},
   "outputs": [
    {
     "name": "stdout",
     "output_type": "stream",
     "text": [
      "RegularExpression 1IsAn 2ImportantTopic 3InPython\n"
     ]
    }
   ],
   "source": [
    "import re\n",
    "\n",
    "def spaces(strings):\n",
    "    space = re.sub(r'\\d', ' \\\\g<0>', strings)\n",
    "    return space\n",
    "\n",
    "result = spaces('RegularExpression1IsAn2ImportantTopic3InPython')\n",
    "print(result)\n"
   ]
  },
  {
   "cell_type": "markdown",
   "id": "a2650328",
   "metadata": {},
   "source": [
    "**Question 9- Create a function in python to insert spaces between words starting with capital letters or with numbers.**\n",
    "\n",
    "**Sample Text: “RegularExpression1IsAn2ImportantTopic3InPython\"**\n",
    "    \n",
    "**Expected Output:  RegularExpression 1 IsAn 2 ImportantTopic 3 InPython**\n"
   ]
  },
  {
   "cell_type": "code",
   "execution_count": 278,
   "id": "b604c2cd",
   "metadata": {},
   "outputs": [
    {
     "name": "stdout",
     "output_type": "stream",
     "text": [
      "RegularExpression 1 IsAn 2 ImportantTopic 3 InPython\n"
     ]
    }
   ],
   "source": [
    "import re\n",
    "\n",
    "def spaces(strings):\n",
    "    space = re.sub(r'\\d', ' \\\\g<0> ', strings)\n",
    "    return space\n",
    "\n",
    "result = spaces('RegularExpression1IsAn2ImportantTopic3InPython')\n",
    "print(result)\n"
   ]
  },
  {
   "cell_type": "markdown",
   "id": "ee0d393e",
   "metadata": {},
   "source": [
    "**Question 10- Use the github link below to read the data and create a dataframe. After creating the dataframe extract the first 6 letters of each country and store in the dataframe under a new column called first_five_letters.**\n",
    "\n",
    "Github Link-  https://raw.githubusercontent.com/dsrscientist/DSData/master/happiness_score_dataset.csv\n"
   ]
  },
  {
   "cell_type": "code",
   "execution_count": 316,
   "id": "382184b3",
   "metadata": {},
   "outputs": [
    {
     "name": "stdout",
     "output_type": "stream",
     "text": [
      "['Norway', 'Canada', 'Sweden', 'Israel', 'Mexico', 'United', 'States', 'Brazil', 'United', 'United', 'Panama', 'France', 'Arabia', 'Taiwan', 'Kuwait', 'Tobago', 'Poland', 'Russia', 'Cyprus', 'Cyprus', 'Kosovo', 'Turkey', 'Bhutan', 'Jordan', 'Zambia', 'Serbia', 'Latvia', 'region', 'Bosnia', 'Greece', 'Africa', 'Sierra', 'Malawi', 'Angola', 'Uganda', 'Guinea', 'Rwanda']\n"
     ]
    }
   ],
   "source": [
    "import re\n",
    "import pandas as pd\n",
    "\n",
    "df = pd.read_csv('https://raw.githubusercontent.com/dsrscientist/DSData/master/happiness_score_dataset.csv')\n",
    "\n",
    "six_letters = re.findall(r'\\b\\w{6}\\b', ' '.join(df['Country']))\n",
    "print(six_letters)\n"
   ]
  },
  {
   "cell_type": "markdown",
   "id": "9cf884b2",
   "metadata": {},
   "source": [
    "**Question 11- Write a Python program to match a string that contains only upper and lowercase letters, numbers, and underscores.**"
   ]
  },
  {
   "cell_type": "code",
   "execution_count": 62,
   "id": "8cae899f",
   "metadata": {},
   "outputs": [
    {
     "data": {
      "text/plain": [
       "['John',\n",
       " 'McCarthy',\n",
       " 'is',\n",
       " 'one',\n",
       " 'of',\n",
       " 'the',\n",
       " 'founding',\n",
       " 'fathers',\n",
       " 'of',\n",
       " 'artificial_intelligence',\n",
       " '_together_',\n",
       " 'with',\n",
       " 'Alan',\n",
       " 'Turing',\n",
       " 'Marvin',\n",
       " 'Minsky',\n",
       " 'Allen',\n",
       " 'Newell',\n",
       " 'and',\n",
       " 'Herbert',\n",
       " 'Simon',\n",
       " 'McCarthy',\n",
       " 'Minsky',\n",
       " 'Nathaniel',\n",
       " 'Rochester',\n",
       " 'and',\n",
       " 'Claude',\n",
       " 'Shannon',\n",
       " 'coined',\n",
       " 'the',\n",
       " 'term',\n",
       " 'artificial',\n",
       " 'intelligence',\n",
       " 'in',\n",
       " 'proposal',\n",
       " 'that',\n",
       " 'they',\n",
       " 'wrote',\n",
       " 'for',\n",
       " 'the',\n",
       " 'famous',\n",
       " 'Dartmouth',\n",
       " 'conference',\n",
       " 'in',\n",
       " 'Summer',\n",
       " '1956',\n",
       " 'This',\n",
       " 'conference',\n",
       " 'started',\n",
       " 'AI',\n",
       " 'as',\n",
       " 'field']"
      ]
     },
     "execution_count": 62,
     "metadata": {},
     "output_type": "execute_result"
    }
   ],
   "source": [
    "import re\n",
    "string='John McCarthy is one of the \"founding fathers\" of artificial_intelligence, _together_ with Alan Turing, Marvin Minsky, Allen Newell, and Herbert A. Simon. McCarthy, Minsky, Nathaniel Rochester and Claude E. Shannon coined the term \"artificial intelligence\" in a proposal that they wrote for the famous Dartmouth conference in Summer 1956. This conference started AI as a field.'\n",
    "re.findall(r'[A-Za-z0-9_]\\w+',string)"
   ]
  },
  {
   "cell_type": "markdown",
   "id": "5b7d1dba",
   "metadata": {},
   "source": [
    "**Question 12- Write a Python program where a string will start with a specific number.**"
   ]
  },
  {
   "cell_type": "code",
   "execution_count": 63,
   "id": "286d3253",
   "metadata": {},
   "outputs": [
    {
     "data": {
      "text/plain": [
       "['3InPython']"
      ]
     },
     "execution_count": 63,
     "metadata": {},
     "output_type": "execute_result"
    }
   ],
   "source": [
    "Sample=\"Regular Expression1 Is An 2ImportantTopic 3InPython\"\n",
    "re.findall(r'\\b3\\w+',Sample)"
   ]
  },
  {
   "cell_type": "markdown",
   "id": "7a2f1f88",
   "metadata": {},
   "source": [
    "**Question 13- Write a Python program to remove leading zeros from an IP address**"
   ]
  },
  {
   "cell_type": "code",
   "execution_count": 64,
   "id": "da9a57c6",
   "metadata": {},
   "outputs": [
    {
     "data": {
      "text/plain": [
       "'10.131.65.250'"
      ]
     },
     "execution_count": 64,
     "metadata": {},
     "output_type": "execute_result"
    }
   ],
   "source": [
    "IP='0010.0131.065.0250'\n",
    "re.sub(r'\\b0+(\\d+)\\b', r'\\1',IP)"
   ]
  },
  {
   "cell_type": "markdown",
   "id": "8e5682b9",
   "metadata": {},
   "source": [
    "**Question 14- Write a regular expression in python to match a date string in the form of Month name followed by day number and year stored in a text file.**\n",
    "\n",
    "**Sample='On August 15th 1947 that India was declared independent from British colonialism, and the reins of control were handed over to the leaders of the Country’.**\n",
    "\n",
    "**Expected Output- August 15th 1947**\n",
    "\n",
    "Note- Store given sample text in the text file and then extract the date string asked format.\n"
   ]
  },
  {
   "cell_type": "code",
   "execution_count": 77,
   "id": "256b755d",
   "metadata": {},
   "outputs": [
    {
     "name": "stdout",
     "output_type": "stream",
     "text": [
      "August 15th 1947\n"
     ]
    }
   ],
   "source": [
    "import re\n",
    "\n",
    "with open('sample_date.txt','r') as file:\n",
    "    for line in file:\n",
    "        date_pattern = re.search(r'(?:(?:January|February|March|April|May|June|July|August|September|October|November|December) \\d{1,2}(?:st|nd|rd|th)? \\d{4})', line)\n",
    "\n",
    "print(date_pattern.group())\n"
   ]
  },
  {
   "cell_type": "markdown",
   "id": "dc77571a",
   "metadata": {},
   "source": [
    "**Question 15- Write a Python program to search some literals strings in a string.**\n",
    "\n",
    "**Sample text : 'The quick brown fox jumps over the lazy dog.'**\n",
    "    \n",
    "**Searched words : 'fox', 'dog', 'horse'**\n"
   ]
  },
  {
   "cell_type": "code",
   "execution_count": 78,
   "id": "e58cb51e",
   "metadata": {},
   "outputs": [
    {
     "data": {
      "text/plain": [
       "['fox', 'dog', 'camel']"
      ]
     },
     "execution_count": 78,
     "metadata": {},
     "output_type": "execute_result"
    }
   ],
   "source": [
    "import re\n",
    "Sample='The quick brown fox jumps over the lazy dog. He rides horse and camel'\n",
    "re.findall(r'\\b(?:fox|dog|camel)',Sample)"
   ]
  },
  {
   "cell_type": "markdown",
   "id": "a9ffded5",
   "metadata": {},
   "source": [
    "**Question 16- Write a Python program to search a literals string in a string and also find the location within the original string where the pattern occurs**\n",
    "\n",
    "**Sample text : 'The quick brown fox jumps over the lazy dog.'**\n",
    "    \n",
    "**Searched words : 'fox'**\n"
   ]
  },
  {
   "cell_type": "code",
   "execution_count": 8,
   "id": "a9ecc1dd",
   "metadata": {},
   "outputs": [
    {
     "data": {
      "text/plain": [
       "<re.Match object; span=(16, 19), match='fox'>"
      ]
     },
     "execution_count": 8,
     "metadata": {},
     "output_type": "execute_result"
    }
   ],
   "source": [
    "import re\n",
    "Sample_text='The quick brown fox jumps over the lazy dog.'\n",
    "re.search('fox',Sample_text)"
   ]
  },
  {
   "cell_type": "markdown",
   "id": "3599ac13",
   "metadata": {},
   "source": [
    "**Question 17- Write a Python program to find the substrings within a string.**\n",
    "\n",
    "**Sample text : 'Python exercises, PHP exercises, C# exercises'**\n",
    "    \n",
    "**Pattern : 'exercises'.**\n"
   ]
  },
  {
   "cell_type": "code",
   "execution_count": 10,
   "id": "225ff75b",
   "metadata": {},
   "outputs": [
    {
     "data": {
      "text/plain": [
       "['exercises', 'exercises', 'exercises']"
      ]
     },
     "execution_count": 10,
     "metadata": {},
     "output_type": "execute_result"
    }
   ],
   "source": [
    "import re\n",
    "Sample_text='Python exercises, PHP exercises, C# exercises'\n",
    "re.findall('exercises',Sample_text)"
   ]
  },
  {
   "cell_type": "markdown",
   "id": "1b6f01d5",
   "metadata": {},
   "source": [
    "**Question 18- Write a Python program to find the occurrence and position of the substrings within a string.**"
   ]
  },
  {
   "cell_type": "code",
   "execution_count": 20,
   "id": "95b3a081",
   "metadata": {},
   "outputs": [
    {
     "data": {
      "text/plain": [
       "['Pyth', 'on', 'exer', 'cise', 'PHP', 'exer', 'cise', 'exer', 'cise']"
      ]
     },
     "execution_count": 20,
     "metadata": {},
     "output_type": "execute_result"
    }
   ],
   "source": [
    "import re\n",
    "Sample_text='Python exercises, PHP exercises, C# exercises'\n",
    "re.findall(r'\\w{2,4}',Sample_text)"
   ]
  },
  {
   "cell_type": "markdown",
   "id": "fde81b75",
   "metadata": {},
   "source": [
    "**Question 19- Write a Python program to convert a date of yyyy-mm-dd format to dd-mm-yyyy format.**"
   ]
  },
  {
   "cell_type": "code",
   "execution_count": 31,
   "id": "c75414db",
   "metadata": {},
   "outputs": [
    {
     "name": "stdout",
     "output_type": "stream",
     "text": [
      "16-12-2023\n"
     ]
    }
   ],
   "source": [
    "import re\n",
    "\n",
    "def convert_date_format(input_date):\n",
    "    pattern = re.compile(r'(\\d{4})-(\\d{2})-(\\d{2})')\n",
    "    match1 = re.match(pattern,input_date)\n",
    "    output_date = f\"{match1.group(3)}-{match1.group(2)}-{match1.group(1)}\"\n",
    "    return output_date\n",
    "    \n",
    "date=convert_date_format('2023-12-16')\n",
    "print(date)"
   ]
  },
  {
   "cell_type": "markdown",
   "id": "b9a7b533",
   "metadata": {},
   "source": [
    "**Question 20- Create a function in python to find all decimal numbers with a precision of 1 or 2 in a string. The use of the re.compile() method is mandatory.**\n",
    "\n",
    "**Sample Text: \"01.12 0132.123 2.31875 145.8 3.01 27.25 0.25\"**\n",
    "    \n",
    "**Expected Output: ['01.12', '145.8', '3.01', '27.25', '0.25']**\n"
   ]
  },
  {
   "cell_type": "code",
   "execution_count": 33,
   "id": "6b66c863",
   "metadata": {},
   "outputs": [
    {
     "name": "stdout",
     "output_type": "stream",
     "text": [
      "['01.12', '145.8', '3.01', '27.25', '0.25']\n"
     ]
    }
   ],
   "source": [
    "import re\n",
    "\n",
    "def decimal_numbers(input_text):\n",
    "    pattern = re.compile(r'\\b\\d+\\.\\d{1,2}\\b')\n",
    "    matches = pattern.findall(input_text)\n",
    "    return matches\n",
    "\n",
    "sample_text = \"01.12 0132.123 2.31875 145.8 3.01 27.25 0.25\"\n",
    "\n",
    "result = decimal_numbers(sample_text)\n",
    "\n",
    "print(result)\n"
   ]
  },
  {
   "cell_type": "markdown",
   "id": "3e632b6b",
   "metadata": {},
   "source": [
    "**Question 21- Write a Python program to separate and print the numbers and their position of a given string.**"
   ]
  },
  {
   "cell_type": "code",
   "execution_count": 110,
   "id": "ff295c81",
   "metadata": {},
   "outputs": [
    {
     "name": "stdout",
     "output_type": "stream",
     "text": [
      "<re.Match object; span=(20, 24), match='2023'>\n"
     ]
    }
   ],
   "source": [
    "string='India\\'s Asian Games 2023 medal tally is 107 medals - 28 gold, 38 silver and 41 bronze.'\n",
    "pattern=re.compile(r'\\b\\d+\\b')\n",
    "nums=re.search(pattern,string)\n",
    "print(nums)"
   ]
  },
  {
   "cell_type": "markdown",
   "id": "57513a80",
   "metadata": {},
   "source": [
    "**Question 22- Write a regular expression in python program to extract maximum/largest numeric value from a string.**\n",
    "\n",
    "**Sample Text:  'My marks in each semester are: 947, 896, 926, 524, 734, 950, 642'**\n",
    "\n",
    "**Expected Output: 950**"
   ]
  },
  {
   "cell_type": "code",
   "execution_count": 115,
   "id": "5cf2b1b4",
   "metadata": {},
   "outputs": [
    {
     "name": "stdout",
     "output_type": "stream",
     "text": [
      "950\n"
     ]
    }
   ],
   "source": [
    "import re\n",
    "\n",
    "def extract_max_numeric_value(input_string):\n",
    "    pattern = re.compile(r'\\b\\d+\\b')\n",
    "\n",
    "    numeric_values = [int(match.group()) for match in re.finditer(pattern, input_string)]\n",
    "\n",
    "    max_numeric_value = max(numeric_values)\n",
    "\n",
    "    return max_numeric_value\n",
    "\n",
    "input_string = 'My marks in each semester are: 947, 896, 926, 524, 734, 950, 642'\n",
    "max_value = extract_max_numeric_value(input_string)\n",
    "\n",
    "print(max_value)\n"
   ]
  },
  {
   "cell_type": "markdown",
   "id": "3df9e985",
   "metadata": {},
   "source": [
    "**Question 23- Create a function in python to insert spaces between words starting with capital letters.**\n",
    "\n",
    "**Sample Text: “RegularExpressionIsAnImportantTopicInPython\"**\n",
    "    \n",
    "**Expected Output: Regular Expression Is An Important Topic In Python**"
   ]
  },
  {
   "cell_type": "code",
   "execution_count": 124,
   "id": "117ce007",
   "metadata": {},
   "outputs": [
    {
     "name": "stdout",
     "output_type": "stream",
     "text": [
      " Regular Expression Is An Important Topic In Python\n"
     ]
    }
   ],
   "source": [
    "import re\n",
    "Sample=\"RegularExpressionIsAnImportantTopicInPython\"\n",
    "pattern=re.compile(r'([A-Z])')\n",
    "space=re.sub(pattern, r'\\1', Sample)\n",
    "print(space)"
   ]
  },
  {
   "cell_type": "markdown",
   "id": "4ac7ee9e",
   "metadata": {},
   "source": [
    "**Question 24- Python regex to find sequences of one upper case letter followed by lower case letters**"
   ]
  },
  {
   "cell_type": "code",
   "execution_count": 145,
   "id": "ed3c3caf",
   "metadata": {},
   "outputs": [
    {
     "name": "stdout",
     "output_type": "stream",
     "text": [
      "['Regular', 'Is', 'An', 'Topic']\n"
     ]
    }
   ],
   "source": [
    "import re\n",
    "text='Regular expression Is An important Topic in PYTHON'\n",
    "pattern=re.compile(r'\\b[A-Z][a-z]*\\b')\n",
    "words=re.findall(pattern,text)\n",
    "print(words)"
   ]
  },
  {
   "cell_type": "markdown",
   "id": "ca331058",
   "metadata": {},
   "source": [
    "**Question 25- Write a Python program to remove continuous duplicate words from Sentence using Regular Expression.**\n",
    "\n",
    "**Sample Text: \"Hello hello world world\"**\n",
    "\n",
    "**Expected Output: Hello hello world**"
   ]
  },
  {
   "cell_type": "code",
   "execution_count": null,
   "id": "669824ab",
   "metadata": {},
   "outputs": [],
   "source": [
    "Text=\"Hello hello world world\"\n"
   ]
  },
  {
   "cell_type": "markdown",
   "id": "48bcd644",
   "metadata": {},
   "source": [
    "**Question 26-  Write a python program using RegEx to accept string ending with alphanumeric character.**"
   ]
  },
  {
   "cell_type": "code",
   "execution_count": 61,
   "id": "a25ad374",
   "metadata": {},
   "outputs": [
    {
     "name": "stdout",
     "output_type": "stream",
     "text": [
      "['Jags123456', 'Bharat', 'band', 'on', '28', 'U', '00A0', 'U', '00BD', 'U', '00B8', 'U', '0082', 'Those', 'who', 'are', 'protesting', 'demonetization', 'are', 'all', 'different', 'party', 'leaders']\n"
     ]
    }
   ],
   "source": [
    "import re\n",
    "Text=\"@Jags123456 Bharat band on 28??<U+00A0><U+00BD><U+00B8><U+0082>Those who are protesting #demonetization are all different party leaders\"\n",
    "pattern=re.compile(r'[A-Za-z0-9]\\w*')\n",
    "alpha_num=re.findall(pattern,Text)\n",
    "print(alpha_num)"
   ]
  },
  {
   "cell_type": "markdown",
   "id": "5da1818d",
   "metadata": {},
   "source": [
    "**Question 27-Write a python program using RegEx to extract the hashtags.**\n",
    "\n",
    "**Sample Text:  \"\"\"RT @kapil_kausik: #Doltiwal I mean #xyzabc is \"hurt\" by #Demonetization as the same has rendered USELESS <ed><U+00A0><U+00BD><ed><U+00B1><U+0089> \"acquired funds\" No wo\"\"\"**\n",
    "\n",
    "**Expected Output: ['#Doltiwal', '#xyzabc', '#Demonetization']**\n"
   ]
  },
  {
   "cell_type": "code",
   "execution_count": 57,
   "id": "1ec65060",
   "metadata": {},
   "outputs": [
    {
     "name": "stdout",
     "output_type": "stream",
     "text": [
      "['#Doltiwal', '#xyzabc', '#Demonetization']\n"
     ]
    }
   ],
   "source": [
    "import re\n",
    "Text=\"\"\"RT @kapil_kausik: #Doltiwal I mean #xyzabc is \"hurt\" by #Demonetization as the same has rendered USELESS <U+00A0><U+00BD><U+00B1><U+0089> \"acquired funds\" No wo\"\"\"\n",
    "pattern=re.compile(r'#\\w+')\n",
    "extract=re.findall(pattern,Text)\n",
    "print(extract)"
   ]
  },
  {
   "cell_type": "markdown",
   "id": "398a890f",
   "metadata": {},
   "source": [
    "**Question 28- Write a python program using RegEx to remove <U+..> like symbols\n",
    "Check the below sample text, there are strange symbols something of the sort <U+..> all over the place. You need to come up with a general Regex expression that will cover all such symbols.**\n",
    "\n",
    "**Sample Text: \"@Jags123456 Bharat band on 28??<ed><U+00A0><U+00BD><ed><U+00B8><U+0082>Those who  are protesting #demonetization  are all different party leaders\"**\n",
    "    \n",
    "**Expected Output: @Jags123456 Bharat band on 28??<ed><ed>Those who  are protesting #demonetization  are all different party leaders**\n"
   ]
  },
  {
   "cell_type": "code",
   "execution_count": 53,
   "id": "a246c6a3",
   "metadata": {},
   "outputs": [
    {
     "name": "stdout",
     "output_type": "stream",
     "text": [
      "@Jags123456 Bharat band on 28??Those who are protesting #demonetization are all different party leaders\n"
     ]
    }
   ],
   "source": [
    "import re\n",
    "Text=\"@Jags123456 Bharat band on 28??<U+00A0><U+00BD><U+00B8><U+0082>Those who are protesting #demonetization are all different party leaders\"\n",
    "pattern=re.compile(r'<[^>]*>')\n",
    "replaced=re.sub(pattern,'',Text)\n",
    "print(replaced)"
   ]
  },
  {
   "cell_type": "markdown",
   "id": "3c1f47f5",
   "metadata": {},
   "source": [
    "**Question 29- Write a python program to extract dates from the text stored in the text file.**\n",
    "\n",
    "**Sample Text: Ron was born on 12-09-1992 and he was admitted to school 15-12-1999.**\n",
    "    \n",
    "**Note- Store this sample text in the file and then extract dates.**\n"
   ]
  },
  {
   "cell_type": "code",
   "execution_count": 46,
   "id": "5c2c91c1",
   "metadata": {},
   "outputs": [
    {
     "name": "stdout",
     "output_type": "stream",
     "text": [
      "['12-09-1992', '15-12-1999']\n"
     ]
    }
   ],
   "source": [
    "import re\n",
    "with open('date_extract.txt') as file:\n",
    "     for line in file:\n",
    "        pattern=re.compile(r'\\b\\d{2}-\\d{2}-\\d{4}\\b')\n",
    "        date=re.findall(pattern,line)\n",
    "print(date)"
   ]
  },
  {
   "cell_type": "markdown",
   "id": "18b20bc3",
   "metadata": {},
   "source": [
    "**Question 30- Create a function in python to remove all words from a string of length between 2 and 4.\n",
    "The use of the re.compile() method is mandatory.**\n",
    "\n",
    "**Sample Text: \"The following example creates an ArrayList with a capacity of 50 elements. 4 elements are then added to the ArrayList and the ArrayList is trimmed accordingly.\"**\n",
    "\n",
    "**Expected Output:  following example creates ArrayList a capacity elements. 4 elements added ArrayList ArrayList trimmed accordingly.**\n"
   ]
  },
  {
   "cell_type": "code",
   "execution_count": 38,
   "id": "89039062",
   "metadata": {},
   "outputs": [
    {
     "name": "stdout",
     "output_type": "stream",
     "text": [
      " following example creates  ArrayList  a capacity   elements. 4 elements   added   ArrayList   ArrayList  trimmed accordingly.\n"
     ]
    }
   ],
   "source": [
    "import re\n",
    "\n",
    "Sample_Text=\"The following example creates an ArrayList with a capacity of 50 elements. 4 elements are then added to the ArrayList and the ArrayList is trimmed accordingly.\"\n",
    "pattern=re.compile(r'\\b\\w{2,4}\\b')\n",
    "\n",
    "output=re.sub(pattern,\"\",Sample_Text)\n",
    "print(output)\n",
    "           "
   ]
  },
  {
   "cell_type": "code",
   "execution_count": null,
   "id": "063dac70",
   "metadata": {},
   "outputs": [],
   "source": []
  }
 ],
 "metadata": {
  "kernelspec": {
   "display_name": "Python 3 (ipykernel)",
   "language": "python",
   "name": "python3"
  },
  "language_info": {
   "codemirror_mode": {
    "name": "ipython",
    "version": 3
   },
   "file_extension": ".py",
   "mimetype": "text/x-python",
   "name": "python",
   "nbconvert_exporter": "python",
   "pygments_lexer": "ipython3",
   "version": "3.9.13"
  }
 },
 "nbformat": 4,
 "nbformat_minor": 5
}
