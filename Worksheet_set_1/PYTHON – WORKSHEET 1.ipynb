{
 "cells": [
  {
   "cell_type": "markdown",
   "id": "ebec6c39",
   "metadata": {},
   "source": [
    "**11. Write a python program to find the factorial of a number.**\n"
   ]
  },
  {
   "cell_type": "code",
   "execution_count": 34,
   "id": "5846059d",
   "metadata": {
    "scrolled": true
   },
   "outputs": [
    {
     "data": {
      "text/plain": [
       "3628800"
      ]
     },
     "execution_count": 34,
     "metadata": {},
     "output_type": "execute_result"
    }
   ],
   "source": [
    "def factorial(n):\n",
    "    if n==0 or n==1:\n",
    "        return 1\n",
    "    else:\n",
    "        return n*factorial(n-1)\n",
    "\n",
    "factorial(10)"
   ]
  },
  {
   "cell_type": "markdown",
   "id": "ba8ce2cc",
   "metadata": {},
   "source": [
    "**12. Write a python program to find whether a number is prime or composite.**"
   ]
  },
  {
   "cell_type": "code",
   "execution_count": 104,
   "id": "7cade997",
   "metadata": {},
   "outputs": [
    {
     "name": "stdout",
     "output_type": "stream",
     "text": [
      "PRIME\n"
     ]
    }
   ],
   "source": [
    "def is_prime_composite(n):\n",
    "    if n < 2:\n",
    "        print(\"COMPOSITE\")\n",
    "    else:\n",
    "        for i in range(2, int(n**0.5) + 1):                   # to check for factors till the square root of the number plus 1\n",
    "            if n % i == 0:\n",
    "                print(\"COMPOSITE\")\n",
    "                break\n",
    "        else:\n",
    "            print(\"PRIME\")\n",
    "\n",
    "is_prime_composite(41)\n"
   ]
  },
  {
   "cell_type": "markdown",
   "id": "894649c6",
   "metadata": {},
   "source": [
    "**13. Write a python program to check whether a given string is palindrome or not.**"
   ]
  },
  {
   "cell_type": "code",
   "execution_count": 188,
   "id": "48f41889",
   "metadata": {},
   "outputs": [
    {
     "name": "stdout",
     "output_type": "stream",
     "text": [
      "Enter the string: RADAR\n",
      "Palindrome\n"
     ]
    }
   ],
   "source": [
    "string = input(\"Enter the string: \")\n",
    "word = []\n",
    "\n",
    "for char in string:\n",
    "    word.append(char)\n",
    "\n",
    "is_palindrome = True\n",
    "\n",
    "for n in range(0, int(len(word) / 2)):\n",
    "    if word[n] != word[-(n + 1)]:\n",
    "        is_palindrome = False\n",
    "        break\n",
    "\n",
    "if is_palindrome:\n",
    "    print('Palindrome')\n",
    "else:\n",
    "    print('Not Palindrome')\n"
   ]
  },
  {
   "cell_type": "markdown",
   "id": "d2fea999",
   "metadata": {},
   "source": [
    "**14. Write a Python program to get the third side of right-angled triangle from two given sides.**"
   ]
  },
  {
   "cell_type": "code",
   "execution_count": 237,
   "id": "2428bf98",
   "metadata": {},
   "outputs": [
    {
     "name": "stdout",
     "output_type": "stream",
     "text": [
      "Enter side 1: 6\n",
      "Enter side 2: 9\n",
      "Is side 3 a hypotenuse ? (enter: 1 for YES, 0 for NO): 1\n",
      "Third side is 10.816653826391969\n"
     ]
    }
   ],
   "source": [
    "side1=float(input('Enter side 1: '))\n",
    "side2=float(input('Enter side 2: '))\n",
    "is_hypotenuse=int(input('Is side 3 a hypotenuse ? (enter: 1 for YES, 0 for NO): '))\n",
    "if is_hypotenuse == 1:\n",
    "    side3=(side1**2+side2**2)**0.5\n",
    "else:\n",
    "    side3=(abs(side1**2-side2**2))**0.5\n",
    "print(f'Third side is {side3}') \n",
    "\n"
   ]
  },
  {
   "cell_type": "markdown",
   "id": "2c0c77bb",
   "metadata": {},
   "source": [
    "**15. Write a python program to print the frequency of each of the characters present in a given string.**"
   ]
  },
  {
   "cell_type": "code",
   "execution_count": 238,
   "id": "ed5f8b2a",
   "metadata": {},
   "outputs": [
    {
     "name": "stdout",
     "output_type": "stream",
     "text": [
      "'c': 1 times\n",
      "'o': 3 times\n",
      "'p': 1 times\n",
      "'e': 1 times\n",
      "'r': 1 times\n",
      "'a': 1 times\n",
      "'t': 1 times\n",
      "'i': 1 times\n",
      "'n': 1 times\n"
     ]
    }
   ],
   "source": [
    "def character_frequency(string):\n",
    "    frequency = {}\n",
    "\n",
    "    for char in string:\n",
    "        if char in frequency:\n",
    "            frequency[char] += 1\n",
    "        else:\n",
    "            frequency[char] = 1\n",
    "    return frequency\n",
    "\n",
    "result = character_frequency(\"cooperation\")\n",
    "result.items()\n",
    "\n",
    "for char, count in result.items():\n",
    "    print(f\"'{char}': {count} times\")\n"
   ]
  },
  {
   "cell_type": "code",
   "execution_count": null,
   "id": "eea9a361",
   "metadata": {},
   "outputs": [],
   "source": []
  }
 ],
 "metadata": {
  "kernelspec": {
   "display_name": "Python 3 (ipykernel)",
   "language": "python",
   "name": "python3"
  },
  "language_info": {
   "codemirror_mode": {
    "name": "ipython",
    "version": 3
   },
   "file_extension": ".py",
   "mimetype": "text/x-python",
   "name": "python",
   "nbconvert_exporter": "python",
   "pygments_lexer": "ipython3",
   "version": "3.9.13"
  }
 },
 "nbformat": 4,
 "nbformat_minor": 5
}
