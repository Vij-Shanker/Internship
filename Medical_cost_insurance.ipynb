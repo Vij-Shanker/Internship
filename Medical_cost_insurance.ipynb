{
 "cells": [
  {
   "cell_type": "markdown",
   "id": "7c451770",
   "metadata": {},
   "source": [
    "## Medical Cost Personal Insurance Project"
   ]
  },
  {
   "cell_type": "markdown",
   "id": "f1e2fd84",
   "metadata": {},
   "source": [
    "### Project Description\n",
    "Health insurance is a type of insurance that covers medical expenses that arise due to an illness. These expenses could be related to hospitalisation costs, cost of medicines or doctor consultation fees. The main purpose of medical insurance is to receive the best medical care without any strain on your finances. Health insurance plans offer protection against high medical costs. It covers hospitalization expenses, day care procedures, domiciliary expenses, and ambulance charges, besides many others. Based on certain input features such as age , bmi,,no of dependents ,smoker ,region  medical insurance is calculated .\n",
    "Columns                                            \n",
    "•\tage: age of primary beneficiary\n",
    "\n",
    "•\tsex: insurance contractor gender, female, male\n",
    "\n",
    "•\tbmi: Body mass index, providing an understanding of body, weights that are relatively high or low relative to height, objective index of body weight (kg/m^2) using the ratio of height to weight, ideally 18.5 to 24.9.\n",
    "\n",
    "•\tchildren: Number of children covered by health insurance / Number of dependents\n",
    "\n",
    "•\tsmoker: Smoking\n",
    "\n",
    "•\tregion: the beneficiary's residential area in the US, northeast, southeast, southwest, northwest.\n",
    "\n",
    "•\tcharges: Individual medical costs billed by health insurance"
   ]
  },
  {
   "cell_type": "markdown",
   "id": "0baa36a8",
   "metadata": {},
   "source": [
    "### Objective : To accurately predict insurance costs\n",
    "\n",
    "Dataset Link-\n",
    "https://github.com/FlipRoboTechnologies/ML-Datasets/blob/main/Medical%20Cost%20Insurance/medical_cost_insurance.csv\n"
   ]
  },
  {
   "cell_type": "code",
   "execution_count": 317,
   "id": "a4e5fda7",
   "metadata": {},
   "outputs": [],
   "source": [
    "# Importing libraries\n",
    "import os\n",
    "import pandas as pd\n",
    "import numpy as np\n",
    "from sklearn.model_selection import train_test_split\n",
    "import matplotlib.pyplot as plt\n"
   ]
  },
  {
   "cell_type": "code",
   "execution_count": 318,
   "id": "480c1925",
   "metadata": {},
   "outputs": [
    {
     "data": {
      "text/html": [
       "<div>\n",
       "<style scoped>\n",
       "    .dataframe tbody tr th:only-of-type {\n",
       "        vertical-align: middle;\n",
       "    }\n",
       "\n",
       "    .dataframe tbody tr th {\n",
       "        vertical-align: top;\n",
       "    }\n",
       "\n",
       "    .dataframe thead th {\n",
       "        text-align: right;\n",
       "    }\n",
       "</style>\n",
       "<table border=\"1\" class=\"dataframe\">\n",
       "  <thead>\n",
       "    <tr style=\"text-align: right;\">\n",
       "      <th></th>\n",
       "      <th>age</th>\n",
       "      <th>sex</th>\n",
       "      <th>bmi</th>\n",
       "      <th>children</th>\n",
       "      <th>smoker</th>\n",
       "      <th>region</th>\n",
       "      <th>charges</th>\n",
       "    </tr>\n",
       "  </thead>\n",
       "  <tbody>\n",
       "    <tr>\n",
       "      <th>0</th>\n",
       "      <td>19</td>\n",
       "      <td>female</td>\n",
       "      <td>27.900</td>\n",
       "      <td>0</td>\n",
       "      <td>yes</td>\n",
       "      <td>southwest</td>\n",
       "      <td>16884.92400</td>\n",
       "    </tr>\n",
       "    <tr>\n",
       "      <th>1</th>\n",
       "      <td>18</td>\n",
       "      <td>male</td>\n",
       "      <td>33.770</td>\n",
       "      <td>1</td>\n",
       "      <td>no</td>\n",
       "      <td>southeast</td>\n",
       "      <td>1725.55230</td>\n",
       "    </tr>\n",
       "    <tr>\n",
       "      <th>2</th>\n",
       "      <td>28</td>\n",
       "      <td>male</td>\n",
       "      <td>33.000</td>\n",
       "      <td>3</td>\n",
       "      <td>no</td>\n",
       "      <td>southeast</td>\n",
       "      <td>4449.46200</td>\n",
       "    </tr>\n",
       "    <tr>\n",
       "      <th>3</th>\n",
       "      <td>33</td>\n",
       "      <td>male</td>\n",
       "      <td>22.705</td>\n",
       "      <td>0</td>\n",
       "      <td>no</td>\n",
       "      <td>northwest</td>\n",
       "      <td>21984.47061</td>\n",
       "    </tr>\n",
       "    <tr>\n",
       "      <th>4</th>\n",
       "      <td>32</td>\n",
       "      <td>male</td>\n",
       "      <td>28.880</td>\n",
       "      <td>0</td>\n",
       "      <td>no</td>\n",
       "      <td>northwest</td>\n",
       "      <td>3866.85520</td>\n",
       "    </tr>\n",
       "  </tbody>\n",
       "</table>\n",
       "</div>"
      ],
      "text/plain": [
       "   age     sex     bmi  children smoker     region      charges\n",
       "0   19  female  27.900         0    yes  southwest  16884.92400\n",
       "1   18    male  33.770         1     no  southeast   1725.55230\n",
       "2   28    male  33.000         3     no  southeast   4449.46200\n",
       "3   33    male  22.705         0     no  northwest  21984.47061\n",
       "4   32    male  28.880         0     no  northwest   3866.85520"
      ]
     },
     "execution_count": 318,
     "metadata": {},
     "output_type": "execute_result"
    }
   ],
   "source": [
    "os.chdir(\"F:\\\\FlipRobo\\\\Projects\\\\Medical insurance\\\\\")\n",
    "df=pd.read_csv('medical_cost_insurance.csv', na_values=[\"?\"])\n",
    "df.head()"
   ]
  },
  {
   "cell_type": "code",
   "execution_count": 319,
   "id": "432d03df",
   "metadata": {},
   "outputs": [
    {
     "data": {
      "text/plain": [
       "(1338, 7)"
      ]
     },
     "execution_count": 319,
     "metadata": {},
     "output_type": "execute_result"
    }
   ],
   "source": [
    "df.shape"
   ]
  },
  {
   "cell_type": "markdown",
   "id": "80c4d530",
   "metadata": {},
   "source": [
    "### Exploratory data analysis"
   ]
  },
  {
   "cell_type": "code",
   "execution_count": 320,
   "id": "9d5089ef",
   "metadata": {
    "scrolled": true
   },
   "outputs": [
    {
     "name": "stdout",
     "output_type": "stream",
     "text": [
      "<class 'pandas.core.frame.DataFrame'>\n",
      "RangeIndex: 1338 entries, 0 to 1337\n",
      "Data columns (total 7 columns):\n",
      " #   Column    Non-Null Count  Dtype  \n",
      "---  ------    --------------  -----  \n",
      " 0   age       1338 non-null   int64  \n",
      " 1   sex       1338 non-null   object \n",
      " 2   bmi       1338 non-null   float64\n",
      " 3   children  1338 non-null   int64  \n",
      " 4   smoker    1338 non-null   object \n",
      " 5   region    1338 non-null   object \n",
      " 6   charges   1338 non-null   float64\n",
      "dtypes: float64(2), int64(2), object(3)\n",
      "memory usage: 73.3+ KB\n"
     ]
    }
   ],
   "source": [
    "df.info()"
   ]
  },
  {
   "cell_type": "markdown",
   "id": "51df62f8",
   "metadata": {},
   "source": [
    "#### Observation: sex, smoker and region are object data type"
   ]
  },
  {
   "cell_type": "code",
   "execution_count": 321,
   "id": "c2a66fe7",
   "metadata": {},
   "outputs": [
    {
     "data": {
      "text/html": [
       "<div>\n",
       "<style scoped>\n",
       "    .dataframe tbody tr th:only-of-type {\n",
       "        vertical-align: middle;\n",
       "    }\n",
       "\n",
       "    .dataframe tbody tr th {\n",
       "        vertical-align: top;\n",
       "    }\n",
       "\n",
       "    .dataframe thead th {\n",
       "        text-align: right;\n",
       "    }\n",
       "</style>\n",
       "<table border=\"1\" class=\"dataframe\">\n",
       "  <thead>\n",
       "    <tr style=\"text-align: right;\">\n",
       "      <th></th>\n",
       "      <th>age</th>\n",
       "      <th>sex</th>\n",
       "      <th>bmi</th>\n",
       "      <th>children</th>\n",
       "      <th>smoker</th>\n",
       "      <th>region</th>\n",
       "      <th>charges</th>\n",
       "    </tr>\n",
       "  </thead>\n",
       "  <tbody>\n",
       "    <tr>\n",
       "      <th>0</th>\n",
       "      <td>19</td>\n",
       "      <td>female</td>\n",
       "      <td>27.900</td>\n",
       "      <td>0</td>\n",
       "      <td>yes</td>\n",
       "      <td>southwest</td>\n",
       "      <td>16884.92400</td>\n",
       "    </tr>\n",
       "    <tr>\n",
       "      <th>1</th>\n",
       "      <td>18</td>\n",
       "      <td>male</td>\n",
       "      <td>33.770</td>\n",
       "      <td>1</td>\n",
       "      <td>no</td>\n",
       "      <td>southeast</td>\n",
       "      <td>1725.55230</td>\n",
       "    </tr>\n",
       "    <tr>\n",
       "      <th>2</th>\n",
       "      <td>28</td>\n",
       "      <td>male</td>\n",
       "      <td>33.000</td>\n",
       "      <td>3</td>\n",
       "      <td>no</td>\n",
       "      <td>southeast</td>\n",
       "      <td>4449.46200</td>\n",
       "    </tr>\n",
       "    <tr>\n",
       "      <th>3</th>\n",
       "      <td>33</td>\n",
       "      <td>male</td>\n",
       "      <td>22.705</td>\n",
       "      <td>0</td>\n",
       "      <td>no</td>\n",
       "      <td>northwest</td>\n",
       "      <td>21984.47061</td>\n",
       "    </tr>\n",
       "    <tr>\n",
       "      <th>4</th>\n",
       "      <td>32</td>\n",
       "      <td>male</td>\n",
       "      <td>28.880</td>\n",
       "      <td>0</td>\n",
       "      <td>no</td>\n",
       "      <td>northwest</td>\n",
       "      <td>3866.85520</td>\n",
       "    </tr>\n",
       "    <tr>\n",
       "      <th>...</th>\n",
       "      <td>...</td>\n",
       "      <td>...</td>\n",
       "      <td>...</td>\n",
       "      <td>...</td>\n",
       "      <td>...</td>\n",
       "      <td>...</td>\n",
       "      <td>...</td>\n",
       "    </tr>\n",
       "    <tr>\n",
       "      <th>1333</th>\n",
       "      <td>50</td>\n",
       "      <td>male</td>\n",
       "      <td>30.970</td>\n",
       "      <td>3</td>\n",
       "      <td>no</td>\n",
       "      <td>northwest</td>\n",
       "      <td>10600.54830</td>\n",
       "    </tr>\n",
       "    <tr>\n",
       "      <th>1334</th>\n",
       "      <td>18</td>\n",
       "      <td>female</td>\n",
       "      <td>31.920</td>\n",
       "      <td>0</td>\n",
       "      <td>no</td>\n",
       "      <td>northeast</td>\n",
       "      <td>2205.98080</td>\n",
       "    </tr>\n",
       "    <tr>\n",
       "      <th>1335</th>\n",
       "      <td>18</td>\n",
       "      <td>female</td>\n",
       "      <td>36.850</td>\n",
       "      <td>0</td>\n",
       "      <td>no</td>\n",
       "      <td>southeast</td>\n",
       "      <td>1629.83350</td>\n",
       "    </tr>\n",
       "    <tr>\n",
       "      <th>1336</th>\n",
       "      <td>21</td>\n",
       "      <td>female</td>\n",
       "      <td>25.800</td>\n",
       "      <td>0</td>\n",
       "      <td>no</td>\n",
       "      <td>southwest</td>\n",
       "      <td>2007.94500</td>\n",
       "    </tr>\n",
       "    <tr>\n",
       "      <th>1337</th>\n",
       "      <td>61</td>\n",
       "      <td>female</td>\n",
       "      <td>29.070</td>\n",
       "      <td>0</td>\n",
       "      <td>yes</td>\n",
       "      <td>northwest</td>\n",
       "      <td>29141.36030</td>\n",
       "    </tr>\n",
       "  </tbody>\n",
       "</table>\n",
       "<p>1338 rows × 7 columns</p>\n",
       "</div>"
      ],
      "text/plain": [
       "      age     sex     bmi  children smoker     region      charges\n",
       "0      19  female  27.900         0    yes  southwest  16884.92400\n",
       "1      18    male  33.770         1     no  southeast   1725.55230\n",
       "2      28    male  33.000         3     no  southeast   4449.46200\n",
       "3      33    male  22.705         0     no  northwest  21984.47061\n",
       "4      32    male  28.880         0     no  northwest   3866.85520\n",
       "...   ...     ...     ...       ...    ...        ...          ...\n",
       "1333   50    male  30.970         3     no  northwest  10600.54830\n",
       "1334   18  female  31.920         0     no  northeast   2205.98080\n",
       "1335   18  female  36.850         0     no  southeast   1629.83350\n",
       "1336   21  female  25.800         0     no  southwest   2007.94500\n",
       "1337   61  female  29.070         0    yes  northwest  29141.36030\n",
       "\n",
       "[1338 rows x 7 columns]"
      ]
     },
     "execution_count": 321,
     "metadata": {},
     "output_type": "execute_result"
    }
   ],
   "source": [
    "df.replace(\" \", np.nan)"
   ]
  },
  {
   "cell_type": "code",
   "execution_count": 322,
   "id": "f9efda8d",
   "metadata": {},
   "outputs": [
    {
     "data": {
      "text/plain": [
       "(1337, 7)"
      ]
     },
     "execution_count": 322,
     "metadata": {},
     "output_type": "execute_result"
    }
   ],
   "source": [
    "df1=df.drop_duplicates(keep='first',inplace=False)  # Dropping duplicate values if any\n",
    "df1.shape"
   ]
  },
  {
   "cell_type": "markdown",
   "id": "6ce90c8c",
   "metadata": {},
   "source": [
    "#### Observation: There are no null values in any row"
   ]
  },
  {
   "cell_type": "code",
   "execution_count": 323,
   "id": "2a537a6b",
   "metadata": {},
   "outputs": [
    {
     "data": {
      "text/plain": [
       "age           47\n",
       "sex            2\n",
       "bmi          548\n",
       "children       6\n",
       "smoker         2\n",
       "region         4\n",
       "charges     1337\n",
       "dtype: int64"
      ]
     },
     "execution_count": 323,
     "metadata": {},
     "output_type": "execute_result"
    }
   ],
   "source": [
    "df1.nunique()"
   ]
  },
  {
   "cell_type": "markdown",
   "id": "e5c11e30",
   "metadata": {},
   "source": [
    "#### Observation: age, bmi and charges are continuous variable whereas sex, children, smoker and region are discrete variables"
   ]
  },
  {
   "cell_type": "code",
   "execution_count": 324,
   "id": "46910d35",
   "metadata": {
    "scrolled": true
   },
   "outputs": [
    {
     "data": {
      "text/html": [
       "<div>\n",
       "<style scoped>\n",
       "    .dataframe tbody tr th:only-of-type {\n",
       "        vertical-align: middle;\n",
       "    }\n",
       "\n",
       "    .dataframe tbody tr th {\n",
       "        vertical-align: top;\n",
       "    }\n",
       "\n",
       "    .dataframe thead th {\n",
       "        text-align: right;\n",
       "    }\n",
       "</style>\n",
       "<table border=\"1\" class=\"dataframe\">\n",
       "  <thead>\n",
       "    <tr style=\"text-align: right;\">\n",
       "      <th></th>\n",
       "      <th>age</th>\n",
       "      <th>sex</th>\n",
       "      <th>bmi</th>\n",
       "      <th>children</th>\n",
       "      <th>smoker</th>\n",
       "      <th>region</th>\n",
       "      <th>charges</th>\n",
       "    </tr>\n",
       "  </thead>\n",
       "  <tbody>\n",
       "    <tr>\n",
       "      <th>count</th>\n",
       "      <td>1337.000000</td>\n",
       "      <td>1337</td>\n",
       "      <td>1337.000000</td>\n",
       "      <td>1337.000000</td>\n",
       "      <td>1337</td>\n",
       "      <td>1337</td>\n",
       "      <td>1337.000000</td>\n",
       "    </tr>\n",
       "    <tr>\n",
       "      <th>unique</th>\n",
       "      <td>NaN</td>\n",
       "      <td>2</td>\n",
       "      <td>NaN</td>\n",
       "      <td>NaN</td>\n",
       "      <td>2</td>\n",
       "      <td>4</td>\n",
       "      <td>NaN</td>\n",
       "    </tr>\n",
       "    <tr>\n",
       "      <th>top</th>\n",
       "      <td>NaN</td>\n",
       "      <td>male</td>\n",
       "      <td>NaN</td>\n",
       "      <td>NaN</td>\n",
       "      <td>no</td>\n",
       "      <td>southeast</td>\n",
       "      <td>NaN</td>\n",
       "    </tr>\n",
       "    <tr>\n",
       "      <th>freq</th>\n",
       "      <td>NaN</td>\n",
       "      <td>675</td>\n",
       "      <td>NaN</td>\n",
       "      <td>NaN</td>\n",
       "      <td>1063</td>\n",
       "      <td>364</td>\n",
       "      <td>NaN</td>\n",
       "    </tr>\n",
       "    <tr>\n",
       "      <th>mean</th>\n",
       "      <td>39.222139</td>\n",
       "      <td>NaN</td>\n",
       "      <td>30.663452</td>\n",
       "      <td>1.095737</td>\n",
       "      <td>NaN</td>\n",
       "      <td>NaN</td>\n",
       "      <td>13279.121487</td>\n",
       "    </tr>\n",
       "    <tr>\n",
       "      <th>std</th>\n",
       "      <td>14.044333</td>\n",
       "      <td>NaN</td>\n",
       "      <td>6.100468</td>\n",
       "      <td>1.205571</td>\n",
       "      <td>NaN</td>\n",
       "      <td>NaN</td>\n",
       "      <td>12110.359656</td>\n",
       "    </tr>\n",
       "    <tr>\n",
       "      <th>min</th>\n",
       "      <td>18.000000</td>\n",
       "      <td>NaN</td>\n",
       "      <td>15.960000</td>\n",
       "      <td>0.000000</td>\n",
       "      <td>NaN</td>\n",
       "      <td>NaN</td>\n",
       "      <td>1121.873900</td>\n",
       "    </tr>\n",
       "    <tr>\n",
       "      <th>25%</th>\n",
       "      <td>27.000000</td>\n",
       "      <td>NaN</td>\n",
       "      <td>26.290000</td>\n",
       "      <td>0.000000</td>\n",
       "      <td>NaN</td>\n",
       "      <td>NaN</td>\n",
       "      <td>4746.344000</td>\n",
       "    </tr>\n",
       "    <tr>\n",
       "      <th>50%</th>\n",
       "      <td>39.000000</td>\n",
       "      <td>NaN</td>\n",
       "      <td>30.400000</td>\n",
       "      <td>1.000000</td>\n",
       "      <td>NaN</td>\n",
       "      <td>NaN</td>\n",
       "      <td>9386.161300</td>\n",
       "    </tr>\n",
       "    <tr>\n",
       "      <th>75%</th>\n",
       "      <td>51.000000</td>\n",
       "      <td>NaN</td>\n",
       "      <td>34.700000</td>\n",
       "      <td>2.000000</td>\n",
       "      <td>NaN</td>\n",
       "      <td>NaN</td>\n",
       "      <td>16657.717450</td>\n",
       "    </tr>\n",
       "    <tr>\n",
       "      <th>max</th>\n",
       "      <td>64.000000</td>\n",
       "      <td>NaN</td>\n",
       "      <td>53.130000</td>\n",
       "      <td>5.000000</td>\n",
       "      <td>NaN</td>\n",
       "      <td>NaN</td>\n",
       "      <td>63770.428010</td>\n",
       "    </tr>\n",
       "  </tbody>\n",
       "</table>\n",
       "</div>"
      ],
      "text/plain": [
       "                age   sex          bmi     children smoker     region  \\\n",
       "count   1337.000000  1337  1337.000000  1337.000000   1337       1337   \n",
       "unique          NaN     2          NaN          NaN      2          4   \n",
       "top             NaN  male          NaN          NaN     no  southeast   \n",
       "freq            NaN   675          NaN          NaN   1063        364   \n",
       "mean      39.222139   NaN    30.663452     1.095737    NaN        NaN   \n",
       "std       14.044333   NaN     6.100468     1.205571    NaN        NaN   \n",
       "min       18.000000   NaN    15.960000     0.000000    NaN        NaN   \n",
       "25%       27.000000   NaN    26.290000     0.000000    NaN        NaN   \n",
       "50%       39.000000   NaN    30.400000     1.000000    NaN        NaN   \n",
       "75%       51.000000   NaN    34.700000     2.000000    NaN        NaN   \n",
       "max       64.000000   NaN    53.130000     5.000000    NaN        NaN   \n",
       "\n",
       "             charges  \n",
       "count    1337.000000  \n",
       "unique           NaN  \n",
       "top              NaN  \n",
       "freq             NaN  \n",
       "mean    13279.121487  \n",
       "std     12110.359656  \n",
       "min      1121.873900  \n",
       "25%      4746.344000  \n",
       "50%      9386.161300  \n",
       "75%     16657.717450  \n",
       "max     63770.428010  "
      ]
     },
     "execution_count": 324,
     "metadata": {},
     "output_type": "execute_result"
    }
   ],
   "source": [
    "df1.describe(include='all')"
   ]
  },
  {
   "cell_type": "markdown",
   "id": "02e38920",
   "metadata": {},
   "source": [
    "#### Observation: sex, smoker and region are categorical variables"
   ]
  },
  {
   "cell_type": "markdown",
   "id": "c118a318",
   "metadata": {},
   "source": [
    "## Visualization"
   ]
  },
  {
   "cell_type": "markdown",
   "id": "b744cf43",
   "metadata": {},
   "source": [
    "### Check for skewness of continuous variables"
   ]
  },
  {
   "cell_type": "code",
   "execution_count": 325,
   "id": "9d2ab02a",
   "metadata": {
    "scrolled": true
   },
   "outputs": [
    {
     "name": "stdout",
     "output_type": "stream",
     "text": [
      "skewness of age: 0.054780773126998195\n",
      "skewness of bmi: 0.28391419385321137\n"
     ]
    },
    {
     "data": {
      "image/png": "[encoded data removed]",
      "text/plain": [
       "<Figure size 640x480 with 2 Axes>"
      ]
     },
     "metadata": {},
     "output_type": "display_data"
    }
   ],
   "source": [
    "for i in ['age', 'bmi']:\n",
    "    skew = df1[i].skew()\n",
    "    print(f'skewness of {i}: {skew}')\n",
    "    \n",
    "df1[['age', 'bmi']].hist()\n",
    "plt.show()"
   ]
  },
  {
   "cell_type": "markdown",
   "id": "09b3ca1d",
   "metadata": {},
   "source": [
    "#### Observation: 'bmi' is little skewed. But it can be ignored."
   ]
  },
  {
   "cell_type": "markdown",
   "id": "ccfcbfb5",
   "metadata": {},
   "source": [
    "### Check for categorical variables"
   ]
  },
  {
   "cell_type": "code",
   "execution_count": 326,
   "id": "d475cfe8",
   "metadata": {},
   "outputs": [
    {
     "data": {
      "image/png": "[encoded data removed]",
      "text/plain": [
       "<Figure size 1500x500 with 3 Axes>"
      ]
     },
     "metadata": {},
     "output_type": "display_data"
    }
   ],
   "source": [
    "import seaborn as sns\n",
    "import matplotlib.pyplot as plt\n",
    "\n",
    "# Plot count plots for each categorical variable\n",
    "plt.figure(figsize=(15, 5))\n",
    "\n",
    "plt.subplot(1, 3, 1)\n",
    "sns.countplot(data=df1, x='sex')\n",
    "\n",
    "plt.subplot(1, 3, 2)\n",
    "sns.countplot(data=df1, x='smoker')\n",
    "\n",
    "plt.subplot(1, 3, 3)\n",
    "sns.countplot(data=df1, x='region')\n",
    "\n",
    "plt.show()\n"
   ]
  },
  {
   "cell_type": "markdown",
   "id": "7bc93c6e",
   "metadata": {},
   "source": [
    "### Check for multicollinearity"
   ]
  },
  {
   "cell_type": "code",
   "execution_count": 327,
   "id": "b2d12497",
   "metadata": {},
   "outputs": [
    {
     "data": {
      "image/png": "[encoded data removed]",
      "text/plain": [
       "<Figure size 2000x2000 with 2 Axes>"
      ]
     },
     "metadata": {},
     "output_type": "display_data"
    }
   ],
   "source": [
    "plt.figure(figsize=(20,20))\n",
    "sns.heatmap(abs(df1.corr()), annot=True)\n",
    "plt.show()"
   ]
  },
  {
   "cell_type": "markdown",
   "id": "dab1e72d",
   "metadata": {},
   "source": [
    "#### Observation: There are no significant correlations between the variables."
   ]
  },
  {
   "cell_type": "markdown",
   "id": "d114346f",
   "metadata": {},
   "source": [
    "### Encoding categorical variables: Using one hot encoding"
   ]
  },
  {
   "cell_type": "code",
   "execution_count": 328,
   "id": "0d58916f",
   "metadata": {},
   "outputs": [
    {
     "data": {
      "text/html": [
       "<div>\n",
       "<style scoped>\n",
       "    .dataframe tbody tr th:only-of-type {\n",
       "        vertical-align: middle;\n",
       "    }\n",
       "\n",
       "    .dataframe tbody tr th {\n",
       "        vertical-align: top;\n",
       "    }\n",
       "\n",
       "    .dataframe thead th {\n",
       "        text-align: right;\n",
       "    }\n",
       "</style>\n",
       "<table border=\"1\" class=\"dataframe\">\n",
       "  <thead>\n",
       "    <tr style=\"text-align: right;\">\n",
       "      <th></th>\n",
       "      <th>age</th>\n",
       "      <th>bmi</th>\n",
       "      <th>children</th>\n",
       "      <th>charges</th>\n",
       "      <th>sex_female</th>\n",
       "      <th>sex_male</th>\n",
       "      <th>smoker_no</th>\n",
       "      <th>smoker_yes</th>\n",
       "      <th>region_northeast</th>\n",
       "      <th>region_northwest</th>\n",
       "      <th>region_southeast</th>\n",
       "      <th>region_southwest</th>\n",
       "    </tr>\n",
       "  </thead>\n",
       "  <tbody>\n",
       "    <tr>\n",
       "      <th>0</th>\n",
       "      <td>19</td>\n",
       "      <td>27.900</td>\n",
       "      <td>0</td>\n",
       "      <td>16884.92400</td>\n",
       "      <td>1</td>\n",
       "      <td>0</td>\n",
       "      <td>0</td>\n",
       "      <td>1</td>\n",
       "      <td>0</td>\n",
       "      <td>0</td>\n",
       "      <td>0</td>\n",
       "      <td>1</td>\n",
       "    </tr>\n",
       "    <tr>\n",
       "      <th>1</th>\n",
       "      <td>18</td>\n",
       "      <td>33.770</td>\n",
       "      <td>1</td>\n",
       "      <td>1725.55230</td>\n",
       "      <td>0</td>\n",
       "      <td>1</td>\n",
       "      <td>1</td>\n",
       "      <td>0</td>\n",
       "      <td>0</td>\n",
       "      <td>0</td>\n",
       "      <td>1</td>\n",
       "      <td>0</td>\n",
       "    </tr>\n",
       "    <tr>\n",
       "      <th>2</th>\n",
       "      <td>28</td>\n",
       "      <td>33.000</td>\n",
       "      <td>3</td>\n",
       "      <td>4449.46200</td>\n",
       "      <td>0</td>\n",
       "      <td>1</td>\n",
       "      <td>1</td>\n",
       "      <td>0</td>\n",
       "      <td>0</td>\n",
       "      <td>0</td>\n",
       "      <td>1</td>\n",
       "      <td>0</td>\n",
       "    </tr>\n",
       "    <tr>\n",
       "      <th>3</th>\n",
       "      <td>33</td>\n",
       "      <td>22.705</td>\n",
       "      <td>0</td>\n",
       "      <td>21984.47061</td>\n",
       "      <td>0</td>\n",
       "      <td>1</td>\n",
       "      <td>1</td>\n",
       "      <td>0</td>\n",
       "      <td>0</td>\n",
       "      <td>1</td>\n",
       "      <td>0</td>\n",
       "      <td>0</td>\n",
       "    </tr>\n",
       "    <tr>\n",
       "      <th>4</th>\n",
       "      <td>32</td>\n",
       "      <td>28.880</td>\n",
       "      <td>0</td>\n",
       "      <td>3866.85520</td>\n",
       "      <td>0</td>\n",
       "      <td>1</td>\n",
       "      <td>1</td>\n",
       "      <td>0</td>\n",
       "      <td>0</td>\n",
       "      <td>1</td>\n",
       "      <td>0</td>\n",
       "      <td>0</td>\n",
       "    </tr>\n",
       "    <tr>\n",
       "      <th>...</th>\n",
       "      <td>...</td>\n",
       "      <td>...</td>\n",
       "      <td>...</td>\n",
       "      <td>...</td>\n",
       "      <td>...</td>\n",
       "      <td>...</td>\n",
       "      <td>...</td>\n",
       "      <td>...</td>\n",
       "      <td>...</td>\n",
       "      <td>...</td>\n",
       "      <td>...</td>\n",
       "      <td>...</td>\n",
       "    </tr>\n",
       "    <tr>\n",
       "      <th>1333</th>\n",
       "      <td>50</td>\n",
       "      <td>30.970</td>\n",
       "      <td>3</td>\n",
       "      <td>10600.54830</td>\n",
       "      <td>0</td>\n",
       "      <td>1</td>\n",
       "      <td>1</td>\n",
       "      <td>0</td>\n",
       "      <td>0</td>\n",
       "      <td>1</td>\n",
       "      <td>0</td>\n",
       "      <td>0</td>\n",
       "    </tr>\n",
       "    <tr>\n",
       "      <th>1334</th>\n",
       "      <td>18</td>\n",
       "      <td>31.920</td>\n",
       "      <td>0</td>\n",
       "      <td>2205.98080</td>\n",
       "      <td>1</td>\n",
       "      <td>0</td>\n",
       "      <td>1</td>\n",
       "      <td>0</td>\n",
       "      <td>1</td>\n",
       "      <td>0</td>\n",
       "      <td>0</td>\n",
       "      <td>0</td>\n",
       "    </tr>\n",
       "    <tr>\n",
       "      <th>1335</th>\n",
       "      <td>18</td>\n",
       "      <td>36.850</td>\n",
       "      <td>0</td>\n",
       "      <td>1629.83350</td>\n",
       "      <td>1</td>\n",
       "      <td>0</td>\n",
       "      <td>1</td>\n",
       "      <td>0</td>\n",
       "      <td>0</td>\n",
       "      <td>0</td>\n",
       "      <td>1</td>\n",
       "      <td>0</td>\n",
       "    </tr>\n",
       "    <tr>\n",
       "      <th>1336</th>\n",
       "      <td>21</td>\n",
       "      <td>25.800</td>\n",
       "      <td>0</td>\n",
       "      <td>2007.94500</td>\n",
       "      <td>1</td>\n",
       "      <td>0</td>\n",
       "      <td>1</td>\n",
       "      <td>0</td>\n",
       "      <td>0</td>\n",
       "      <td>0</td>\n",
       "      <td>0</td>\n",
       "      <td>1</td>\n",
       "    </tr>\n",
       "    <tr>\n",
       "      <th>1337</th>\n",
       "      <td>61</td>\n",
       "      <td>29.070</td>\n",
       "      <td>0</td>\n",
       "      <td>29141.36030</td>\n",
       "      <td>1</td>\n",
       "      <td>0</td>\n",
       "      <td>0</td>\n",
       "      <td>1</td>\n",
       "      <td>0</td>\n",
       "      <td>1</td>\n",
       "      <td>0</td>\n",
       "      <td>0</td>\n",
       "    </tr>\n",
       "  </tbody>\n",
       "</table>\n",
       "<p>1337 rows × 12 columns</p>\n",
       "</div>"
      ],
      "text/plain": [
       "      age     bmi  children      charges  sex_female  sex_male  smoker_no  \\\n",
       "0      19  27.900         0  16884.92400           1         0          0   \n",
       "1      18  33.770         1   1725.55230           0         1          1   \n",
       "2      28  33.000         3   4449.46200           0         1          1   \n",
       "3      33  22.705         0  21984.47061           0         1          1   \n",
       "4      32  28.880         0   3866.85520           0         1          1   \n",
       "...   ...     ...       ...          ...         ...       ...        ...   \n",
       "1333   50  30.970         3  10600.54830           0         1          1   \n",
       "1334   18  31.920         0   2205.98080           1         0          1   \n",
       "1335   18  36.850         0   1629.83350           1         0          1   \n",
       "1336   21  25.800         0   2007.94500           1         0          1   \n",
       "1337   61  29.070         0  29141.36030           1         0          0   \n",
       "\n",
       "      smoker_yes  region_northeast  region_northwest  region_southeast  \\\n",
       "0              1                 0                 0                 0   \n",
       "1              0                 0                 0                 1   \n",
       "2              0                 0                 0                 1   \n",
       "3              0                 0                 1                 0   \n",
       "4              0                 0                 1                 0   \n",
       "...          ...               ...               ...               ...   \n",
       "1333           0                 0                 1                 0   \n",
       "1334           0                 1                 0                 0   \n",
       "1335           0                 0                 0                 1   \n",
       "1336           0                 0                 0                 0   \n",
       "1337           1                 0                 1                 0   \n",
       "\n",
       "      region_southwest  \n",
       "0                    1  \n",
       "1                    0  \n",
       "2                    0  \n",
       "3                    0  \n",
       "4                    0  \n",
       "...                ...  \n",
       "1333                 0  \n",
       "1334                 0  \n",
       "1335                 0  \n",
       "1336                 1  \n",
       "1337                 0  \n",
       "\n",
       "[1337 rows x 12 columns]"
      ]
     },
     "execution_count": 328,
     "metadata": {},
     "output_type": "execute_result"
    }
   ],
   "source": [
    "df_encoded = pd.get_dummies(df1, columns=['sex', 'smoker', 'region'])\n",
    "df_encoded"
   ]
  },
  {
   "cell_type": "code",
   "execution_count": 329,
   "id": "04ca83ba",
   "metadata": {},
   "outputs": [
    {
     "data": {
      "text/plain": [
       "(1337, 12)"
      ]
     },
     "execution_count": 329,
     "metadata": {},
     "output_type": "execute_result"
    }
   ],
   "source": [
    "df_encoded.shape"
   ]
  },
  {
   "cell_type": "markdown",
   "id": "69e0e4da",
   "metadata": {},
   "source": [
    "#### Observation: As aresult of one hot encoding, the features: 'sex', 'smoker', 'region' are replaced by 'sex_female', 'sex_male', \n",
    "\n",
    "#### 'smoker_no', 'smoker_yes', 'region_northeast', 'region_northwest', 'region_southeast','region_southwest'. Therefore, there was a net \n",
    "\n",
    "#### addition of 5 new features. In the encoded data set, there are a total of 12 columns, which is an increase of 5 columns from initial \n",
    "\n",
    "#### 7 columns."
   ]
  },
  {
   "cell_type": "code",
   "execution_count": 330,
   "id": "b61daa7e",
   "metadata": {
    "scrolled": true
   },
   "outputs": [
    {
     "data": {
      "text/plain": [
       "age                 0\n",
       "bmi                 0\n",
       "children            0\n",
       "charges             0\n",
       "sex_female          0\n",
       "sex_male            0\n",
       "smoker_no           0\n",
       "smoker_yes          0\n",
       "region_northeast    0\n",
       "region_northwest    0\n",
       "region_southeast    0\n",
       "region_southwest    0\n",
       "dtype: int64"
      ]
     },
     "execution_count": 330,
     "metadata": {},
     "output_type": "execute_result"
    }
   ],
   "source": [
    "df_encoded.isnull().sum()"
   ]
  },
  {
   "cell_type": "markdown",
   "id": "31eb8bee",
   "metadata": {},
   "source": [
    "#### Splitting the dataset as features (X) and target (y)"
   ]
  },
  {
   "cell_type": "code",
   "execution_count": 331,
   "id": "99adac9a",
   "metadata": {},
   "outputs": [
    {
     "data": {
      "text/html": [
       "<div>\n",
       "<style scoped>\n",
       "    .dataframe tbody tr th:only-of-type {\n",
       "        vertical-align: middle;\n",
       "    }\n",
       "\n",
       "    .dataframe tbody tr th {\n",
       "        vertical-align: top;\n",
       "    }\n",
       "\n",
       "    .dataframe thead th {\n",
       "        text-align: right;\n",
       "    }\n",
       "</style>\n",
       "<table border=\"1\" class=\"dataframe\">\n",
       "  <thead>\n",
       "    <tr style=\"text-align: right;\">\n",
       "      <th></th>\n",
       "      <th>age</th>\n",
       "      <th>bmi</th>\n",
       "      <th>children</th>\n",
       "      <th>sex_female</th>\n",
       "      <th>sex_male</th>\n",
       "      <th>smoker_no</th>\n",
       "      <th>smoker_yes</th>\n",
       "      <th>region_northeast</th>\n",
       "      <th>region_northwest</th>\n",
       "      <th>region_southeast</th>\n",
       "      <th>region_southwest</th>\n",
       "    </tr>\n",
       "  </thead>\n",
       "  <tbody>\n",
       "    <tr>\n",
       "      <th>0</th>\n",
       "      <td>19</td>\n",
       "      <td>27.900</td>\n",
       "      <td>0</td>\n",
       "      <td>1</td>\n",
       "      <td>0</td>\n",
       "      <td>0</td>\n",
       "      <td>1</td>\n",
       "      <td>0</td>\n",
       "      <td>0</td>\n",
       "      <td>0</td>\n",
       "      <td>1</td>\n",
       "    </tr>\n",
       "    <tr>\n",
       "      <th>1</th>\n",
       "      <td>18</td>\n",
       "      <td>33.770</td>\n",
       "      <td>1</td>\n",
       "      <td>0</td>\n",
       "      <td>1</td>\n",
       "      <td>1</td>\n",
       "      <td>0</td>\n",
       "      <td>0</td>\n",
       "      <td>0</td>\n",
       "      <td>1</td>\n",
       "      <td>0</td>\n",
       "    </tr>\n",
       "    <tr>\n",
       "      <th>2</th>\n",
       "      <td>28</td>\n",
       "      <td>33.000</td>\n",
       "      <td>3</td>\n",
       "      <td>0</td>\n",
       "      <td>1</td>\n",
       "      <td>1</td>\n",
       "      <td>0</td>\n",
       "      <td>0</td>\n",
       "      <td>0</td>\n",
       "      <td>1</td>\n",
       "      <td>0</td>\n",
       "    </tr>\n",
       "    <tr>\n",
       "      <th>3</th>\n",
       "      <td>33</td>\n",
       "      <td>22.705</td>\n",
       "      <td>0</td>\n",
       "      <td>0</td>\n",
       "      <td>1</td>\n",
       "      <td>1</td>\n",
       "      <td>0</td>\n",
       "      <td>0</td>\n",
       "      <td>1</td>\n",
       "      <td>0</td>\n",
       "      <td>0</td>\n",
       "    </tr>\n",
       "    <tr>\n",
       "      <th>4</th>\n",
       "      <td>32</td>\n",
       "      <td>28.880</td>\n",
       "      <td>0</td>\n",
       "      <td>0</td>\n",
       "      <td>1</td>\n",
       "      <td>1</td>\n",
       "      <td>0</td>\n",
       "      <td>0</td>\n",
       "      <td>1</td>\n",
       "      <td>0</td>\n",
       "      <td>0</td>\n",
       "    </tr>\n",
       "    <tr>\n",
       "      <th>...</th>\n",
       "      <td>...</td>\n",
       "      <td>...</td>\n",
       "      <td>...</td>\n",
       "      <td>...</td>\n",
       "      <td>...</td>\n",
       "      <td>...</td>\n",
       "      <td>...</td>\n",
       "      <td>...</td>\n",
       "      <td>...</td>\n",
       "      <td>...</td>\n",
       "      <td>...</td>\n",
       "    </tr>\n",
       "    <tr>\n",
       "      <th>1333</th>\n",
       "      <td>50</td>\n",
       "      <td>30.970</td>\n",
       "      <td>3</td>\n",
       "      <td>0</td>\n",
       "      <td>1</td>\n",
       "      <td>1</td>\n",
       "      <td>0</td>\n",
       "      <td>0</td>\n",
       "      <td>1</td>\n",
       "      <td>0</td>\n",
       "      <td>0</td>\n",
       "    </tr>\n",
       "    <tr>\n",
       "      <th>1334</th>\n",
       "      <td>18</td>\n",
       "      <td>31.920</td>\n",
       "      <td>0</td>\n",
       "      <td>1</td>\n",
       "      <td>0</td>\n",
       "      <td>1</td>\n",
       "      <td>0</td>\n",
       "      <td>1</td>\n",
       "      <td>0</td>\n",
       "      <td>0</td>\n",
       "      <td>0</td>\n",
       "    </tr>\n",
       "    <tr>\n",
       "      <th>1335</th>\n",
       "      <td>18</td>\n",
       "      <td>36.850</td>\n",
       "      <td>0</td>\n",
       "      <td>1</td>\n",
       "      <td>0</td>\n",
       "      <td>1</td>\n",
       "      <td>0</td>\n",
       "      <td>0</td>\n",
       "      <td>0</td>\n",
       "      <td>1</td>\n",
       "      <td>0</td>\n",
       "    </tr>\n",
       "    <tr>\n",
       "      <th>1336</th>\n",
       "      <td>21</td>\n",
       "      <td>25.800</td>\n",
       "      <td>0</td>\n",
       "      <td>1</td>\n",
       "      <td>0</td>\n",
       "      <td>1</td>\n",
       "      <td>0</td>\n",
       "      <td>0</td>\n",
       "      <td>0</td>\n",
       "      <td>0</td>\n",
       "      <td>1</td>\n",
       "    </tr>\n",
       "    <tr>\n",
       "      <th>1337</th>\n",
       "      <td>61</td>\n",
       "      <td>29.070</td>\n",
       "      <td>0</td>\n",
       "      <td>1</td>\n",
       "      <td>0</td>\n",
       "      <td>0</td>\n",
       "      <td>1</td>\n",
       "      <td>0</td>\n",
       "      <td>1</td>\n",
       "      <td>0</td>\n",
       "      <td>0</td>\n",
       "    </tr>\n",
       "  </tbody>\n",
       "</table>\n",
       "<p>1337 rows × 11 columns</p>\n",
       "</div>"
      ],
      "text/plain": [
       "      age     bmi  children  sex_female  sex_male  smoker_no  smoker_yes  \\\n",
       "0      19  27.900         0           1         0          0           1   \n",
       "1      18  33.770         1           0         1          1           0   \n",
       "2      28  33.000         3           0         1          1           0   \n",
       "3      33  22.705         0           0         1          1           0   \n",
       "4      32  28.880         0           0         1          1           0   \n",
       "...   ...     ...       ...         ...       ...        ...         ...   \n",
       "1333   50  30.970         3           0         1          1           0   \n",
       "1334   18  31.920         0           1         0          1           0   \n",
       "1335   18  36.850         0           1         0          1           0   \n",
       "1336   21  25.800         0           1         0          1           0   \n",
       "1337   61  29.070         0           1         0          0           1   \n",
       "\n",
       "      region_northeast  region_northwest  region_southeast  region_southwest  \n",
       "0                    0                 0                 0                 1  \n",
       "1                    0                 0                 1                 0  \n",
       "2                    0                 0                 1                 0  \n",
       "3                    0                 1                 0                 0  \n",
       "4                    0                 1                 0                 0  \n",
       "...                ...               ...               ...               ...  \n",
       "1333                 0                 1                 0                 0  \n",
       "1334                 1                 0                 0                 0  \n",
       "1335                 0                 0                 1                 0  \n",
       "1336                 0                 0                 0                 1  \n",
       "1337                 0                 1                 0                 0  \n",
       "\n",
       "[1337 rows x 11 columns]"
      ]
     },
     "execution_count": 331,
     "metadata": {},
     "output_type": "execute_result"
    }
   ],
   "source": [
    "X=df_encoded[['age', 'bmi', 'children','sex_female', 'sex_male',\n",
    "       'smoker_no', 'smoker_yes', 'region_northeast', 'region_northwest',\n",
    "       'region_southeast', 'region_southwest']]\n",
    "X"
   ]
  },
  {
   "cell_type": "code",
   "execution_count": 332,
   "id": "94d88f0b",
   "metadata": {},
   "outputs": [
    {
     "data": {
      "text/plain": [
       "Index(['age', 'bmi', 'children', 'sex_female', 'sex_male', 'smoker_no',\n",
       "       'smoker_yes', 'region_northeast', 'region_northwest',\n",
       "       'region_southeast', 'region_southwest'],\n",
       "      dtype='object')"
      ]
     },
     "execution_count": 332,
     "metadata": {},
     "output_type": "execute_result"
    }
   ],
   "source": [
    "X.columns"
   ]
  },
  {
   "cell_type": "code",
   "execution_count": 333,
   "id": "cba30449",
   "metadata": {
    "scrolled": true
   },
   "outputs": [
    {
     "data": {
      "text/plain": [
       "0       16884.92400\n",
       "1        1725.55230\n",
       "2        4449.46200\n",
       "3       21984.47061\n",
       "4        3866.85520\n",
       "           ...     \n",
       "1333    10600.54830\n",
       "1334     2205.98080\n",
       "1335     1629.83350\n",
       "1336     2007.94500\n",
       "1337    29141.36030\n",
       "Name: charges, Length: 1337, dtype: float64"
      ]
     },
     "execution_count": 333,
     "metadata": {},
     "output_type": "execute_result"
    }
   ],
   "source": [
    "y=df_encoded['charges']\n",
    "y"
   ]
  },
  {
   "cell_type": "markdown",
   "id": "42cbfcb8",
   "metadata": {},
   "source": [
    "### Scaling the features"
   ]
  },
  {
   "cell_type": "code",
   "execution_count": 334,
   "id": "41ecf3c3",
   "metadata": {},
   "outputs": [
    {
     "data": {
      "text/html": [
       "<div>\n",
       "<style scoped>\n",
       "    .dataframe tbody tr th:only-of-type {\n",
       "        vertical-align: middle;\n",
       "    }\n",
       "\n",
       "    .dataframe tbody tr th {\n",
       "        vertical-align: top;\n",
       "    }\n",
       "\n",
       "    .dataframe thead th {\n",
       "        text-align: right;\n",
       "    }\n",
       "</style>\n",
       "<table border=\"1\" class=\"dataframe\">\n",
       "  <thead>\n",
       "    <tr style=\"text-align: right;\">\n",
       "      <th></th>\n",
       "      <th>age</th>\n",
       "      <th>bmi</th>\n",
       "      <th>children</th>\n",
       "      <th>sex_female</th>\n",
       "      <th>sex_male</th>\n",
       "      <th>smoker_no</th>\n",
       "      <th>smoker_yes</th>\n",
       "      <th>region_northeast</th>\n",
       "      <th>region_northwest</th>\n",
       "      <th>region_southeast</th>\n",
       "      <th>region_southwest</th>\n",
       "    </tr>\n",
       "  </thead>\n",
       "  <tbody>\n",
       "    <tr>\n",
       "      <th>0</th>\n",
       "      <td>-1.440418</td>\n",
       "      <td>-0.453160</td>\n",
       "      <td>-0.909234</td>\n",
       "      <td>1.009771</td>\n",
       "      <td>-1.009771</td>\n",
       "      <td>-1.969660</td>\n",
       "      <td>1.969660</td>\n",
       "      <td>-0.565546</td>\n",
       "      <td>-0.565546</td>\n",
       "      <td>-0.611638</td>\n",
       "      <td>1.764609</td>\n",
       "    </tr>\n",
       "    <tr>\n",
       "      <th>1</th>\n",
       "      <td>-1.511647</td>\n",
       "      <td>0.509422</td>\n",
       "      <td>-0.079442</td>\n",
       "      <td>-0.990324</td>\n",
       "      <td>0.990324</td>\n",
       "      <td>0.507702</td>\n",
       "      <td>-0.507702</td>\n",
       "      <td>-0.565546</td>\n",
       "      <td>-0.565546</td>\n",
       "      <td>1.634955</td>\n",
       "      <td>-0.566698</td>\n",
       "    </tr>\n",
       "    <tr>\n",
       "      <th>2</th>\n",
       "      <td>-0.799350</td>\n",
       "      <td>0.383155</td>\n",
       "      <td>1.580143</td>\n",
       "      <td>-0.990324</td>\n",
       "      <td>0.990324</td>\n",
       "      <td>0.507702</td>\n",
       "      <td>-0.507702</td>\n",
       "      <td>-0.565546</td>\n",
       "      <td>-0.565546</td>\n",
       "      <td>1.634955</td>\n",
       "      <td>-0.566698</td>\n",
       "    </tr>\n",
       "    <tr>\n",
       "      <th>3</th>\n",
       "      <td>-0.443201</td>\n",
       "      <td>-1.305052</td>\n",
       "      <td>-0.909234</td>\n",
       "      <td>-0.990324</td>\n",
       "      <td>0.990324</td>\n",
       "      <td>0.507702</td>\n",
       "      <td>-0.507702</td>\n",
       "      <td>-0.565546</td>\n",
       "      <td>1.768203</td>\n",
       "      <td>-0.611638</td>\n",
       "      <td>-0.566698</td>\n",
       "    </tr>\n",
       "    <tr>\n",
       "      <th>4</th>\n",
       "      <td>-0.514431</td>\n",
       "      <td>-0.292456</td>\n",
       "      <td>-0.909234</td>\n",
       "      <td>-0.990324</td>\n",
       "      <td>0.990324</td>\n",
       "      <td>0.507702</td>\n",
       "      <td>-0.507702</td>\n",
       "      <td>-0.565546</td>\n",
       "      <td>1.768203</td>\n",
       "      <td>-0.611638</td>\n",
       "      <td>-0.566698</td>\n",
       "    </tr>\n",
       "    <tr>\n",
       "      <th>...</th>\n",
       "      <td>...</td>\n",
       "      <td>...</td>\n",
       "      <td>...</td>\n",
       "      <td>...</td>\n",
       "      <td>...</td>\n",
       "      <td>...</td>\n",
       "      <td>...</td>\n",
       "      <td>...</td>\n",
       "      <td>...</td>\n",
       "      <td>...</td>\n",
       "      <td>...</td>\n",
       "    </tr>\n",
       "    <tr>\n",
       "      <th>1332</th>\n",
       "      <td>0.767704</td>\n",
       "      <td>0.050269</td>\n",
       "      <td>1.580143</td>\n",
       "      <td>-0.990324</td>\n",
       "      <td>0.990324</td>\n",
       "      <td>0.507702</td>\n",
       "      <td>-0.507702</td>\n",
       "      <td>-0.565546</td>\n",
       "      <td>1.768203</td>\n",
       "      <td>-0.611638</td>\n",
       "      <td>-0.566698</td>\n",
       "    </tr>\n",
       "    <tr>\n",
       "      <th>1333</th>\n",
       "      <td>-1.511647</td>\n",
       "      <td>0.206053</td>\n",
       "      <td>-0.909234</td>\n",
       "      <td>1.009771</td>\n",
       "      <td>-1.009771</td>\n",
       "      <td>0.507702</td>\n",
       "      <td>-0.507702</td>\n",
       "      <td>1.768203</td>\n",
       "      <td>-0.565546</td>\n",
       "      <td>-0.611638</td>\n",
       "      <td>-0.566698</td>\n",
       "    </tr>\n",
       "    <tr>\n",
       "      <th>1334</th>\n",
       "      <td>-1.511647</td>\n",
       "      <td>1.014490</td>\n",
       "      <td>-0.909234</td>\n",
       "      <td>1.009771</td>\n",
       "      <td>-1.009771</td>\n",
       "      <td>0.507702</td>\n",
       "      <td>-0.507702</td>\n",
       "      <td>-0.565546</td>\n",
       "      <td>-0.565546</td>\n",
       "      <td>1.634955</td>\n",
       "      <td>-0.566698</td>\n",
       "    </tr>\n",
       "    <tr>\n",
       "      <th>1335</th>\n",
       "      <td>-1.297958</td>\n",
       "      <td>-0.797524</td>\n",
       "      <td>-0.909234</td>\n",
       "      <td>1.009771</td>\n",
       "      <td>-1.009771</td>\n",
       "      <td>0.507702</td>\n",
       "      <td>-0.507702</td>\n",
       "      <td>-0.565546</td>\n",
       "      <td>-0.565546</td>\n",
       "      <td>-0.611638</td>\n",
       "      <td>1.764609</td>\n",
       "    </tr>\n",
       "    <tr>\n",
       "      <th>1336</th>\n",
       "      <td>1.551231</td>\n",
       "      <td>-0.261299</td>\n",
       "      <td>-0.909234</td>\n",
       "      <td>1.009771</td>\n",
       "      <td>-1.009771</td>\n",
       "      <td>-1.969660</td>\n",
       "      <td>1.969660</td>\n",
       "      <td>-0.565546</td>\n",
       "      <td>1.768203</td>\n",
       "      <td>-0.611638</td>\n",
       "      <td>-0.566698</td>\n",
       "    </tr>\n",
       "  </tbody>\n",
       "</table>\n",
       "<p>1337 rows × 11 columns</p>\n",
       "</div>"
      ],
      "text/plain": [
       "           age       bmi  children  sex_female  sex_male  smoker_no  \\\n",
       "0    -1.440418 -0.453160 -0.909234    1.009771 -1.009771  -1.969660   \n",
       "1    -1.511647  0.509422 -0.079442   -0.990324  0.990324   0.507702   \n",
       "2    -0.799350  0.383155  1.580143   -0.990324  0.990324   0.507702   \n",
       "3    -0.443201 -1.305052 -0.909234   -0.990324  0.990324   0.507702   \n",
       "4    -0.514431 -0.292456 -0.909234   -0.990324  0.990324   0.507702   \n",
       "...        ...       ...       ...         ...       ...        ...   \n",
       "1332  0.767704  0.050269  1.580143   -0.990324  0.990324   0.507702   \n",
       "1333 -1.511647  0.206053 -0.909234    1.009771 -1.009771   0.507702   \n",
       "1334 -1.511647  1.014490 -0.909234    1.009771 -1.009771   0.507702   \n",
       "1335 -1.297958 -0.797524 -0.909234    1.009771 -1.009771   0.507702   \n",
       "1336  1.551231 -0.261299 -0.909234    1.009771 -1.009771  -1.969660   \n",
       "\n",
       "      smoker_yes  region_northeast  region_northwest  region_southeast  \\\n",
       "0       1.969660         -0.565546         -0.565546         -0.611638   \n",
       "1      -0.507702         -0.565546         -0.565546          1.634955   \n",
       "2      -0.507702         -0.565546         -0.565546          1.634955   \n",
       "3      -0.507702         -0.565546          1.768203         -0.611638   \n",
       "4      -0.507702         -0.565546          1.768203         -0.611638   \n",
       "...          ...               ...               ...               ...   \n",
       "1332   -0.507702         -0.565546          1.768203         -0.611638   \n",
       "1333   -0.507702          1.768203         -0.565546         -0.611638   \n",
       "1334   -0.507702         -0.565546         -0.565546          1.634955   \n",
       "1335   -0.507702         -0.565546         -0.565546         -0.611638   \n",
       "1336    1.969660         -0.565546          1.768203         -0.611638   \n",
       "\n",
       "      region_southwest  \n",
       "0             1.764609  \n",
       "1            -0.566698  \n",
       "2            -0.566698  \n",
       "3            -0.566698  \n",
       "4            -0.566698  \n",
       "...                ...  \n",
       "1332         -0.566698  \n",
       "1333         -0.566698  \n",
       "1334         -0.566698  \n",
       "1335          1.764609  \n",
       "1336         -0.566698  \n",
       "\n",
       "[1337 rows x 11 columns]"
      ]
     },
     "execution_count": 334,
     "metadata": {},
     "output_type": "execute_result"
    }
   ],
   "source": [
    "from sklearn.preprocessing import StandardScaler\n",
    "scaler=StandardScaler()\n",
    "X1=scaler.fit_transform(X)\n",
    "X2=pd.DataFrame(X1, columns=X.columns)\n",
    "X2"
   ]
  },
  {
   "cell_type": "code",
   "execution_count": 335,
   "id": "c65e1b97",
   "metadata": {
    "scrolled": true
   },
   "outputs": [
    {
     "data": {
      "text/html": [
       "<div>\n",
       "<style scoped>\n",
       "    .dataframe tbody tr th:only-of-type {\n",
       "        vertical-align: middle;\n",
       "    }\n",
       "\n",
       "    .dataframe tbody tr th {\n",
       "        vertical-align: top;\n",
       "    }\n",
       "\n",
       "    .dataframe thead th {\n",
       "        text-align: right;\n",
       "    }\n",
       "</style>\n",
       "<table border=\"1\" class=\"dataframe\">\n",
       "  <thead>\n",
       "    <tr style=\"text-align: right;\">\n",
       "      <th></th>\n",
       "      <th>age</th>\n",
       "      <th>bmi</th>\n",
       "      <th>children</th>\n",
       "      <th>sex_female</th>\n",
       "      <th>sex_male</th>\n",
       "      <th>smoker_no</th>\n",
       "      <th>smoker_yes</th>\n",
       "      <th>region_northeast</th>\n",
       "      <th>region_northwest</th>\n",
       "      <th>region_southeast</th>\n",
       "      <th>region_southwest</th>\n",
       "    </tr>\n",
       "  </thead>\n",
       "  <tbody>\n",
       "    <tr>\n",
       "      <th>count</th>\n",
       "      <td>1.337000e+03</td>\n",
       "      <td>1.337000e+03</td>\n",
       "      <td>1.337000e+03</td>\n",
       "      <td>1.337000e+03</td>\n",
       "      <td>1.337000e+03</td>\n",
       "      <td>1.337000e+03</td>\n",
       "      <td>1.337000e+03</td>\n",
       "      <td>1.337000e+03</td>\n",
       "      <td>1.337000e+03</td>\n",
       "      <td>1.337000e+03</td>\n",
       "      <td>1.337000e+03</td>\n",
       "    </tr>\n",
       "    <tr>\n",
       "      <th>mean</th>\n",
       "      <td>-7.323984e-17</td>\n",
       "      <td>-2.060182e-16</td>\n",
       "      <td>1.544514e-17</td>\n",
       "      <td>1.195753e-16</td>\n",
       "      <td>-1.195753e-16</td>\n",
       "      <td>2.059352e-16</td>\n",
       "      <td>-2.059352e-16</td>\n",
       "      <td>-8.818675e-17</td>\n",
       "      <td>2.331717e-16</td>\n",
       "      <td>-1.984617e-16</td>\n",
       "      <td>-8.851890e-17</td>\n",
       "    </tr>\n",
       "    <tr>\n",
       "      <th>std</th>\n",
       "      <td>1.000374e+00</td>\n",
       "      <td>1.000374e+00</td>\n",
       "      <td>1.000374e+00</td>\n",
       "      <td>1.000374e+00</td>\n",
       "      <td>1.000374e+00</td>\n",
       "      <td>1.000374e+00</td>\n",
       "      <td>1.000374e+00</td>\n",
       "      <td>1.000374e+00</td>\n",
       "      <td>1.000374e+00</td>\n",
       "      <td>1.000374e+00</td>\n",
       "      <td>1.000374e+00</td>\n",
       "    </tr>\n",
       "    <tr>\n",
       "      <th>min</th>\n",
       "      <td>-1.511647e+00</td>\n",
       "      <td>-2.411119e+00</td>\n",
       "      <td>-9.092342e-01</td>\n",
       "      <td>-9.903236e-01</td>\n",
       "      <td>-1.009771e+00</td>\n",
       "      <td>-1.969660e+00</td>\n",
       "      <td>-5.077017e-01</td>\n",
       "      <td>-5.655458e-01</td>\n",
       "      <td>-5.655458e-01</td>\n",
       "      <td>-6.116377e-01</td>\n",
       "      <td>-5.666977e-01</td>\n",
       "    </tr>\n",
       "    <tr>\n",
       "      <th>25%</th>\n",
       "      <td>-8.705798e-01</td>\n",
       "      <td>-7.171725e-01</td>\n",
       "      <td>-9.092342e-01</td>\n",
       "      <td>-9.903236e-01</td>\n",
       "      <td>-1.009771e+00</td>\n",
       "      <td>5.077017e-01</td>\n",
       "      <td>-5.077017e-01</td>\n",
       "      <td>-5.655458e-01</td>\n",
       "      <td>-5.655458e-01</td>\n",
       "      <td>-6.116377e-01</td>\n",
       "      <td>-5.666977e-01</td>\n",
       "    </tr>\n",
       "    <tr>\n",
       "      <th>50%</th>\n",
       "      <td>-1.582291e-02</td>\n",
       "      <td>-4.320166e-02</td>\n",
       "      <td>-7.944162e-02</td>\n",
       "      <td>-9.903236e-01</td>\n",
       "      <td>9.903236e-01</td>\n",
       "      <td>5.077017e-01</td>\n",
       "      <td>-5.077017e-01</td>\n",
       "      <td>-5.655458e-01</td>\n",
       "      <td>-5.655458e-01</td>\n",
       "      <td>-6.116377e-01</td>\n",
       "      <td>-5.666977e-01</td>\n",
       "    </tr>\n",
       "    <tr>\n",
       "      <th>75%</th>\n",
       "      <td>8.389340e-01</td>\n",
       "      <td>6.619260e-01</td>\n",
       "      <td>7.503509e-01</td>\n",
       "      <td>1.009771e+00</td>\n",
       "      <td>9.903236e-01</td>\n",
       "      <td>5.077017e-01</td>\n",
       "      <td>-5.077017e-01</td>\n",
       "      <td>-5.655458e-01</td>\n",
       "      <td>-5.655458e-01</td>\n",
       "      <td>1.634955e+00</td>\n",
       "      <td>-5.666977e-01</td>\n",
       "    </tr>\n",
       "    <tr>\n",
       "      <th>max</th>\n",
       "      <td>1.764921e+00</td>\n",
       "      <td>3.684136e+00</td>\n",
       "      <td>3.239729e+00</td>\n",
       "      <td>1.009771e+00</td>\n",
       "      <td>9.903236e-01</td>\n",
       "      <td>5.077017e-01</td>\n",
       "      <td>1.969660e+00</td>\n",
       "      <td>1.768203e+00</td>\n",
       "      <td>1.768203e+00</td>\n",
       "      <td>1.634955e+00</td>\n",
       "      <td>1.764609e+00</td>\n",
       "    </tr>\n",
       "  </tbody>\n",
       "</table>\n",
       "</div>"
      ],
      "text/plain": [
       "                age           bmi      children    sex_female      sex_male  \\\n",
       "count  1.337000e+03  1.337000e+03  1.337000e+03  1.337000e+03  1.337000e+03   \n",
       "mean  -7.323984e-17 -2.060182e-16  1.544514e-17  1.195753e-16 -1.195753e-16   \n",
       "std    1.000374e+00  1.000374e+00  1.000374e+00  1.000374e+00  1.000374e+00   \n",
       "min   -1.511647e+00 -2.411119e+00 -9.092342e-01 -9.903236e-01 -1.009771e+00   \n",
       "25%   -8.705798e-01 -7.171725e-01 -9.092342e-01 -9.903236e-01 -1.009771e+00   \n",
       "50%   -1.582291e-02 -4.320166e-02 -7.944162e-02 -9.903236e-01  9.903236e-01   \n",
       "75%    8.389340e-01  6.619260e-01  7.503509e-01  1.009771e+00  9.903236e-01   \n",
       "max    1.764921e+00  3.684136e+00  3.239729e+00  1.009771e+00  9.903236e-01   \n",
       "\n",
       "          smoker_no    smoker_yes  region_northeast  region_northwest  \\\n",
       "count  1.337000e+03  1.337000e+03      1.337000e+03      1.337000e+03   \n",
       "mean   2.059352e-16 -2.059352e-16     -8.818675e-17      2.331717e-16   \n",
       "std    1.000374e+00  1.000374e+00      1.000374e+00      1.000374e+00   \n",
       "min   -1.969660e+00 -5.077017e-01     -5.655458e-01     -5.655458e-01   \n",
       "25%    5.077017e-01 -5.077017e-01     -5.655458e-01     -5.655458e-01   \n",
       "50%    5.077017e-01 -5.077017e-01     -5.655458e-01     -5.655458e-01   \n",
       "75%    5.077017e-01 -5.077017e-01     -5.655458e-01     -5.655458e-01   \n",
       "max    5.077017e-01  1.969660e+00      1.768203e+00      1.768203e+00   \n",
       "\n",
       "       region_southeast  region_southwest  \n",
       "count      1.337000e+03      1.337000e+03  \n",
       "mean      -1.984617e-16     -8.851890e-17  \n",
       "std        1.000374e+00      1.000374e+00  \n",
       "min       -6.116377e-01     -5.666977e-01  \n",
       "25%       -6.116377e-01     -5.666977e-01  \n",
       "50%       -6.116377e-01     -5.666977e-01  \n",
       "75%        1.634955e+00     -5.666977e-01  \n",
       "max        1.634955e+00      1.764609e+00  "
      ]
     },
     "execution_count": 335,
     "metadata": {},
     "output_type": "execute_result"
    }
   ],
   "source": [
    "X2.describe()"
   ]
  },
  {
   "cell_type": "markdown",
   "id": "34f326fc",
   "metadata": {},
   "source": [
    "#### Observations: \n",
    "#### (1) All the columns are now within similar range.\n",
    "#### (2) Means of all the columns are near zero"
   ]
  },
  {
   "cell_type": "markdown",
   "id": "6ebb239a",
   "metadata": {},
   "source": [
    "## Model building"
   ]
  },
  {
   "cell_type": "code",
   "execution_count": 336,
   "id": "a4487f24",
   "metadata": {},
   "outputs": [],
   "source": [
    "from sklearn.linear_model import LinearRegression,Ridge,Lasso\n",
    "from sklearn.preprocessing import PolynomialFeatures\n",
    "from sklearn.tree import DecisionTreeRegressor\n",
    "from sklearn.ensemble import RandomForestRegressor,GradientBoostingRegressor,AdaBoostRegressor,BaggingRegressor\n",
    "from sklearn.neighbors import KNeighborsRegressor\n",
    "from sklearn.metrics import mean_absolute_error,mean_squared_error,r2_score,make_scorer\n",
    "from sklearn.model_selection import cross_val_score,GridSearchCV"
   ]
  },
  {
   "cell_type": "markdown",
   "id": "3e984be2",
   "metadata": {},
   "source": [
    "#### Random state: To estimate the best random state"
   ]
  },
  {
   "cell_type": "code",
   "execution_count": 337,
   "id": "345c3df2",
   "metadata": {},
   "outputs": [
    {
     "name": "stdout",
     "output_type": "stream",
     "text": [
      "Best r2 score: 0.8921490025031064\n",
      "Random state: 710\n"
     ]
    }
   ],
   "source": [
    "from sklearn.model_selection import train_test_split\n",
    "from sklearn.ensemble import RandomForestRegressor\n",
    "r2_max=0\n",
    "r_state=0\n",
    "RF=RandomForestRegressor()\n",
    "for i in range(1000):\n",
    "    X_train,X_test,y_train,y_test=train_test_split(X2,y,test_size=0.3,random_state=i)\n",
    "    \n",
    "    model_RF=RF.fit(X_train,y_train)\n",
    "    y_pred_RF=model_RF.predict(X_test)\n",
    "    r2_RF=r2_score(y_test,y_pred_RF)\n",
    "    if r2_RF>r2_max:\n",
    "        r2_max=r2_RF\n",
    "        r_state=i\n",
    "print(f'Best r2 score: {r2_max}')\n",
    "print(f'Random state: {r_state}')\n",
    "        "
   ]
  },
  {
   "cell_type": "markdown",
   "id": "abf53646",
   "metadata": {},
   "source": [
    "#### Train Test Split: Based on the random state = 710"
   ]
  },
  {
   "cell_type": "code",
   "execution_count": 338,
   "id": "642b29c1",
   "metadata": {},
   "outputs": [],
   "source": [
    "X_train,X_test,y_train,y_test = train_test_split(X2,y, test_size=0.3,random_state=710)"
   ]
  },
  {
   "cell_type": "markdown",
   "id": "1b5e5b29",
   "metadata": {},
   "source": [
    "### Linear Regression"
   ]
  },
  {
   "cell_type": "code",
   "execution_count": 339,
   "id": "4bf905aa",
   "metadata": {},
   "outputs": [
    {
     "name": "stdout",
     "output_type": "stream",
     "text": [
      "r2 score: 0.6891575261710494\n",
      "Mean absolute error: 4043.3947166660923\n",
      "Mean square error: 33929026.15638775\n",
      "Cross validation score: 0.7187558621526617\n"
     ]
    }
   ],
   "source": [
    "LR=LinearRegression()\n",
    "model=LR.fit(X_train,y_train)\n",
    "y_pred=model.predict(X_test)\n",
    "r2=r2_score(y_pred,y_test)\n",
    "MAE=mean_absolute_error(y_pred,y_test)\n",
    "MSE=mean_squared_error(y_pred,y_test)\n",
    "cv_score=cross_val_score(LR,X_train,y_train,cv=10).mean()  # performing 10 folds cross validation\n",
    "print(f'r2 score: {r2}')\n",
    "print(f'Mean absolute error: {MAE}')\n",
    "print(f'Mean square error: {MSE}')\n",
    "print(f'Cross validation score: {cv_score}')"
   ]
  },
  {
   "cell_type": "markdown",
   "id": "be0adda2",
   "metadata": {},
   "source": [
    "### Ridge Regression"
   ]
  },
  {
   "cell_type": "code",
   "execution_count": 340,
   "id": "1e33efd2",
   "metadata": {},
   "outputs": [
    {
     "name": "stdout",
     "output_type": "stream",
     "text": [
      "r2 score: 0.6886852883617847\n",
      "Mean absolute error: 4043.936565663757\n",
      "Mean square error: 33936737.893095106\n",
      "Cross validation score: 0.7193375823865689\n"
     ]
    }
   ],
   "source": [
    "RR=Ridge()\n",
    "model=RR.fit(X_train,y_train)\n",
    "y_pred=model.predict(X_test)\n",
    "r2=r2_score(y_pred,y_test)\n",
    "MAE=mean_absolute_error(y_pred,y_test)\n",
    "MSE=mean_squared_error(y_pred,y_test)\n",
    "cv_score=cross_val_score(RR,X_train,y_train,cv=10).mean()  # performing 10 folds cross validation\n",
    "print(f'r2 score: {r2}')\n",
    "print(f'Mean absolute error: {MAE}')\n",
    "print(f'Mean square error: {MSE}')\n",
    "print(f'Cross validation score: {cv_score}')"
   ]
  },
  {
   "cell_type": "markdown",
   "id": "53f1d234",
   "metadata": {},
   "source": [
    "### Lasso Regression"
   ]
  },
  {
   "cell_type": "code",
   "execution_count": 341,
   "id": "6e3f1a23",
   "metadata": {},
   "outputs": [
    {
     "name": "stdout",
     "output_type": "stream",
     "text": [
      "r2 score: 0.6890659218209021\n",
      "Mean absolute error: 4043.2444271423988\n",
      "Mean square error: 33926570.668699875\n",
      "Cross validation score: 0.7193307806510985\n"
     ]
    }
   ],
   "source": [
    "LaR=Lasso()\n",
    "model=LaR.fit(X_train,y_train)\n",
    "y_pred=model.predict(X_test)\n",
    "r2=r2_score(y_pred,y_test)\n",
    "MAE=mean_absolute_error(y_pred,y_test)\n",
    "MSE=mean_squared_error(y_pred,y_test)\n",
    "cv_score=cross_val_score(LaR,X_train,y_train,cv=10).mean()  # performing 10 folds cross validation\n",
    "print(f'r2 score: {r2}')\n",
    "print(f'Mean absolute error: {MAE}')\n",
    "print(f'Mean square error: {MSE}')\n",
    "print(f'Cross validation score: {cv_score}')"
   ]
  },
  {
   "cell_type": "markdown",
   "id": "3671e82b",
   "metadata": {},
   "source": [
    "### Linear regression with polynomial features (degree = 2)"
   ]
  },
  {
   "cell_type": "code",
   "execution_count": 342,
   "id": "de203c05",
   "metadata": {},
   "outputs": [
    {
     "name": "stdout",
     "output_type": "stream",
     "text": [
      "r2 score: 0.8489932871128701\n",
      "Mean absolute error: 2797.245829154229\n",
      "Mean square error: 19565806.19253616\n",
      "Cross validation score: 0.8085408410654666\n"
     ]
    }
   ],
   "source": [
    "PF=PolynomialFeatures()\n",
    "X_train_poly=PF.fit_transform(X_train)\n",
    "X_test_poly=PF.transform(X_test)\n",
    "PFR=LinearRegression()\n",
    "model=PFR.fit(X_train_poly,y_train)\n",
    "y_pred=model.predict(X_test_poly)\n",
    "r2=r2_score(y_pred,y_test)\n",
    "MAE=mean_absolute_error(y_pred,y_test)\n",
    "MSE=mean_squared_error(y_pred,y_test)\n",
    "cv_score=cross_val_score(PFR,X_train_poly,y_train,cv=10).mean()  # performing 10 folds cross validation\n",
    "print(f'r2 score: {r2}')\n",
    "print(f'Mean absolute error: {MAE}')\n",
    "print(f'Mean square error: {MSE}')\n",
    "print(f'Cross validation score: {cv_score}')"
   ]
  },
  {
   "cell_type": "markdown",
   "id": "7bb9a0ae",
   "metadata": {},
   "source": [
    "### Decission Tree Regression"
   ]
  },
  {
   "cell_type": "code",
   "execution_count": 343,
   "id": "3b3b61ba",
   "metadata": {},
   "outputs": [
    {
     "name": "stdout",
     "output_type": "stream",
     "text": [
      "r2 score: 0.7905878953152271\n",
      "Mean absolute error: 2541.513199303483\n",
      "Mean square error: 32242457.175154094\n",
      "Cross validation score: 0.6542668155671916\n"
     ]
    }
   ],
   "source": [
    "DT=DecisionTreeRegressor()\n",
    "model=DT.fit(X_train,y_train)\n",
    "y_pred=model.predict(X_test)\n",
    "r2=r2_score(y_pred,y_test)\n",
    "MAE=mean_absolute_error(y_pred,y_test)\n",
    "MSE=mean_squared_error(y_pred,y_test)\n",
    "cv_score=cross_val_score(DT,X_train,y_train,cv=10).mean()  # performing 10 folds cross validation\n",
    "print(f'r2 score: {r2}')\n",
    "print(f'Mean absolute error: {MAE}')\n",
    "print(f'Mean square error: {MSE}')\n",
    "print(f'Cross validation score: {cv_score}')"
   ]
  },
  {
   "cell_type": "markdown",
   "id": "a5541662",
   "metadata": {},
   "source": [
    "### Random Forest Regression"
   ]
  },
  {
   "cell_type": "code",
   "execution_count": 344,
   "id": "861a62b7",
   "metadata": {},
   "outputs": [
    {
     "name": "stdout",
     "output_type": "stream",
     "text": [
      "r2 score: 0.8728388951603889\n",
      "Mean absolute error: 2324.649952439051\n",
      "Mean square error: 17104138.510961596\n",
      "Cross validation score: 0.8023006400877964\n"
     ]
    }
   ],
   "source": [
    "RF=RandomForestRegressor()\n",
    "model=RF.fit(X_train,y_train)\n",
    "y_pred=model.predict(X_test)\n",
    "r2=r2_score(y_pred,y_test)\n",
    "MAE=mean_absolute_error(y_pred,y_test)\n",
    "MSE=mean_squared_error(y_pred,y_test)\n",
    "cv_score=cross_val_score(RF,X_train,y_train,cv=10).mean()  # performing 10 folds cross validation\n",
    "print(f'r2 score: {r2}')\n",
    "print(f'Mean absolute error: {MAE}')\n",
    "print(f'Mean square error: {MSE}')\n",
    "print(f'Cross validation score: {cv_score}')"
   ]
  },
  {
   "cell_type": "markdown",
   "id": "d27f36d2",
   "metadata": {},
   "source": [
    "### Gradient Boosting Regression"
   ]
  },
  {
   "cell_type": "code",
   "execution_count": 345,
   "id": "276b1a4c",
   "metadata": {},
   "outputs": [
    {
     "name": "stdout",
     "output_type": "stream",
     "text": [
      "r2 score: 0.8787226426909485\n",
      "Mean absolute error: 2247.854166114368\n",
      "Mean square error: 15820129.46020475\n",
      "Cross validation score: 0.8226126607370462\n"
     ]
    }
   ],
   "source": [
    "GB=GradientBoostingRegressor()\n",
    "model=GB.fit(X_train,y_train)\n",
    "y_pred=model.predict(X_test)\n",
    "r2=r2_score(y_pred,y_test)\n",
    "MAE=mean_absolute_error(y_pred,y_test)\n",
    "MSE=mean_squared_error(y_pred,y_test)\n",
    "cv_score=cross_val_score(GB,X_train,y_train,cv=10).mean()  # performing 10 folds cross validation\n",
    "print(f'r2 score: {r2}')\n",
    "print(f'Mean absolute error: {MAE}')\n",
    "print(f'Mean square error: {MSE}')\n",
    "print(f'Cross validation score: {cv_score}')"
   ]
  },
  {
   "cell_type": "markdown",
   "id": "b67b4907",
   "metadata": {},
   "source": [
    "### Adaboost Regression"
   ]
  },
  {
   "cell_type": "code",
   "execution_count": 346,
   "id": "4f2debac",
   "metadata": {},
   "outputs": [
    {
     "name": "stdout",
     "output_type": "stream",
     "text": [
      "r2 score: 0.8309823145035468\n",
      "Mean absolute error: 3831.4401754561263\n",
      "Mean square error: 21426272.74108978\n",
      "Cross validation score: 0.7857022732977819\n"
     ]
    }
   ],
   "source": [
    "AR=AdaBoostRegressor()\n",
    "model=AR.fit(X_train,y_train)\n",
    "y_pred=model.predict(X_test)\n",
    "r2=r2_score(y_pred,y_test)\n",
    "MAE=mean_absolute_error(y_pred,y_test)\n",
    "MSE=mean_squared_error(y_pred,y_test)\n",
    "cv_score=cross_val_score(AR,X_train,y_train,cv=10).mean()  # performing 10 folds cross validation\n",
    "print(f'r2 score: {r2}')\n",
    "print(f'Mean absolute error: {MAE}')\n",
    "print(f'Mean square error: {MSE}')\n",
    "print(f'Cross validation score: {cv_score}')"
   ]
  },
  {
   "cell_type": "markdown",
   "id": "c9b7d304",
   "metadata": {},
   "source": [
    "### Bagging Regression"
   ]
  },
  {
   "cell_type": "code",
   "execution_count": 347,
   "id": "682ec217",
   "metadata": {},
   "outputs": [
    {
     "name": "stdout",
     "output_type": "stream",
     "text": [
      "r2 score: 0.8627914475007357\n",
      "Mean absolute error: 2394.121995016418\n",
      "Mean square error: 18553796.28671031\n",
      "Cross validation score: 0.7888554343763265\n"
     ]
    }
   ],
   "source": [
    "BR=BaggingRegressor()\n",
    "model=BR.fit(X_train,y_train)\n",
    "y_pred=model.predict(X_test)\n",
    "r2=r2_score(y_pred,y_test)\n",
    "MAE=mean_absolute_error(y_pred,y_test)\n",
    "MSE=mean_squared_error(y_pred,y_test)\n",
    "cv_score=cross_val_score(BR,X_train,y_train,cv=10).mean()  # performing 10 folds cross validation\n",
    "print(f'r2 score: {r2}')\n",
    "print(f'Mean absolute error: {MAE}')\n",
    "print(f'Mean square error: {MSE}')\n",
    "print(f'Cross validation score: {cv_score}')"
   ]
  },
  {
   "cell_type": "markdown",
   "id": "f59d76d3",
   "metadata": {},
   "source": [
    "### K Neighbors Regression"
   ]
  },
  {
   "cell_type": "code",
   "execution_count": 348,
   "id": "6a19ea34",
   "metadata": {},
   "outputs": [
    {
     "name": "stdout",
     "output_type": "stream",
     "text": [
      "r2 score: 0.7594766261963534\n",
      "Mean absolute error: 3349.657894047761\n",
      "Mean square error: 28552279.772273723\n",
      "Cross validation score: 0.7427221353215552\n"
     ]
    }
   ],
   "source": [
    "KN=KNeighborsRegressor()\n",
    "model=KN.fit(X_train,y_train)\n",
    "y_pred=model.predict(X_test)\n",
    "r2=r2_score(y_pred,y_test)\n",
    "MAE=mean_absolute_error(y_pred,y_test)\n",
    "MSE=mean_squared_error(y_pred,y_test)\n",
    "cv_score=cross_val_score(KN,X_train,y_train,cv=10).mean()  # performing 10 folds cross validation\n",
    "print(f'r2 score: {r2}')\n",
    "print(f'Mean absolute error: {MAE}')\n",
    "print(f'Mean square error: {MSE}')\n",
    "print(f'Cross validation score: {cv_score}')"
   ]
  },
  {
   "cell_type": "markdown",
   "id": "4fe437c7",
   "metadata": {},
   "source": [
    "## Observations: r2 scores of different models are:-\n",
    "###  (1) Linear models\n",
    "####        (a) Linear Regression = 0.689\n",
    "####        (b) Ridge Regression = 0.689\n",
    "####        (c) Lasso Regression = 0.689\n",
    "####        (d) Linear Regression with Polynomial Features(degree=2) = 0.849\n",
    "\n",
    "### (2) Decission Tree Regression = 0.787\n",
    "\n",
    "### (3) Ensemble models\n",
    "####      (a) Random Forest = 0.870\n",
    "####      (b) Gradient Boosting Regression = 0.879\n",
    "####      (c) AdaBoostRegression = 0.831\n",
    "####      (d) Bagging Regression = 0.853\n",
    "\n",
    "### (4) K Neighbors Regression = 0.759\n",
    "\n",
    "## Conclusion: Among all the regression models Gradient Boosting (0.879) has the best r2 score. Therefore, now this model will be used for hyperparameter tuning to explore the possibilities to increase its accuracy further."
   ]
  },
  {
   "cell_type": "markdown",
   "id": "349abbcc",
   "metadata": {},
   "source": [
    "## Hyperparameter tuning: Gradient Boosting Regressor"
   ]
  },
  {
   "cell_type": "markdown",
   "id": "9623db5a",
   "metadata": {},
   "source": [
    "### To check the current values of hyperparameters"
   ]
  },
  {
   "cell_type": "code",
   "execution_count": 349,
   "id": "00c8d999",
   "metadata": {},
   "outputs": [
    {
     "name": "stdout",
     "output_type": "stream",
     "text": [
      "Parameters currently in use:\n",
      "\n",
      "{'alpha': 0.9,\n",
      " 'ccp_alpha': 0.0,\n",
      " 'criterion': 'friedman_mse',\n",
      " 'init': None,\n",
      " 'learning_rate': 0.1,\n",
      " 'loss': 'squared_error',\n",
      " 'max_depth': 3,\n",
      " 'max_features': None,\n",
      " 'max_leaf_nodes': None,\n",
      " 'min_impurity_decrease': 0.0,\n",
      " 'min_samples_leaf': 1,\n",
      " 'min_samples_split': 2,\n",
      " 'min_weight_fraction_leaf': 0.0,\n",
      " 'n_estimators': 100,\n",
      " 'n_iter_no_change': None,\n",
      " 'random_state': None,\n",
      " 'subsample': 1.0,\n",
      " 'tol': 0.0001,\n",
      " 'validation_fraction': 0.1,\n",
      " 'verbose': 0,\n",
      " 'warm_start': False}\n"
     ]
    }
   ],
   "source": [
    "from pprint import pprint\n",
    "print('Parameters currently in use:\\n')\n",
    "pprint(GB.get_params())"
   ]
  },
  {
   "cell_type": "code",
   "execution_count": 350,
   "id": "f2f39f6d",
   "metadata": {},
   "outputs": [
    {
     "name": "stdout",
     "output_type": "stream",
     "text": [
      "Best parameters: {'learning_rate': 0.05, 'max_depth': 3, 'verbose': 0}\n",
      "Best estimators: GradientBoostingRegressor(learning_rate=0.05)\n",
      "Best score: 0.8306854180413972\n"
     ]
    }
   ],
   "source": [
    "from sklearn.model_selection import GridSearchCV\n",
    "hyp = {\n",
    "    \n",
    "    'learning_rate': [0.05, 0.1, 0.2],\n",
    "    'max_depth': [3, 4, 5],\n",
    "    'verbose':[0]\n",
    "}\n",
    "\n",
    "grid_search = GridSearchCV(GB, param_grid=hyp, cv=10, scoring=make_scorer(r2_score), n_jobs=-1)\n",
    "\n",
    "# Perform the grid search\n",
    "grid_search.fit(X_train,y_train)\n",
    "\n",
    "print(\"Best parameters:\", grid_search.best_params_)\n",
    "print(\"Best estimators:\", grid_search.best_estimator_)\n",
    "print(\"Best score:\", grid_search.best_score_)"
   ]
  },
  {
   "cell_type": "markdown",
   "id": "607dc62b",
   "metadata": {},
   "source": [
    "###  Observation: After hyperparameter tuning with selected hyperparameters, the best parameters give a r2 score with Gradient Boosting Regression (0.831), which is lower than that of the default Gradient Boosting Regression (0.879).\n",
    "\n",
    "### Therefore, saving the default Gradient Boosting Regression model as the final model."
   ]
  },
  {
   "cell_type": "markdown",
   "id": "aff66763",
   "metadata": {},
   "source": [
    "### Saving the default Gradient Boosting Regression model"
   ]
  },
  {
   "cell_type": "code",
   "execution_count": 351,
   "id": "55cc3bc0",
   "metadata": {},
   "outputs": [],
   "source": [
    "import pickle\n",
    "file_name='medical_insurance.pkl'\n",
    "pickle.dump(GB,open(file_name,'wb'))"
   ]
  },
  {
   "cell_type": "markdown",
   "id": "124f6053",
   "metadata": {},
   "source": [
    "### Loading the saved model"
   ]
  },
  {
   "cell_type": "code",
   "execution_count": 353,
   "id": "d7c6a5fe",
   "metadata": {},
   "outputs": [
    {
     "name": "stdout",
     "output_type": "stream",
     "text": [
      "0.8995706558142762\n"
     ]
    }
   ],
   "source": [
    "loaded_model=pickle.load(open('medical_insurance.pkl','rb'))\n",
    "result=loaded_model.score(X_test,y_test)\n",
    "print(result)"
   ]
  },
  {
   "cell_type": "code",
   "execution_count": null,
   "id": "1da46b5e",
   "metadata": {},
   "outputs": [],
   "source": []
  }
 ],
 "metadata": {
  "kernelspec": {
   "display_name": "Python 3 (ipykernel)",
   "language": "python",
   "name": "python3"
  },
  "language_info": {
   "codemirror_mode": {
    "name": "ipython",
    "version": 3
   },
   "file_extension": ".py",
   "mimetype": "text/x-python",
   "name": "python",
   "nbconvert_exporter": "python",
   "pygments_lexer": "ipython3",
   "version": "3.9.13"
  }
 },
 "nbformat": 4,
 "nbformat_minor": 5
}
